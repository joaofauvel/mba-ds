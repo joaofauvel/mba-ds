{
 "cells": [
  {
   "cell_type": "code",
   "execution_count": 1,
   "id": "ca5b930b-3da4-4a14-82a1-1991fb431741",
   "metadata": {
    "editable": true,
    "slideshow": {
     "slide_type": ""
    },
    "tags": []
   },
   "outputs": [],
   "source": [
    "# !pip install pandas numpy seaborn scipy openpyxl"
   ]
  },
  {
   "cell_type": "code",
   "execution_count": 2,
   "id": "bba78d37-3634-4e13-b556-39ff988ceac6",
   "metadata": {
    "editable": true,
    "slideshow": {
     "slide_type": ""
    },
    "tags": []
   },
   "outputs": [],
   "source": [
    "import pandas as pd\n",
    "import numpy as np\n",
    "import seaborn.objects as so\n",
    "import seaborn as sns\n",
    "from scipy.stats import chisquare, chi2"
   ]
  },
  {
   "cell_type": "code",
   "execution_count": 3,
   "id": "29cde931-17bd-45d0-afad-ab11ecbdd71c",
   "metadata": {
    "editable": true,
    "slideshow": {
     "slide_type": ""
    },
    "tags": []
   },
   "outputs": [],
   "source": [
    "xl_path = 'Planilha Suporte - Fundamentos de Estatisticaxlsx Portugues.xlsx'"
   ]
  },
  {
   "cell_type": "markdown",
   "id": "eae556b3-ff9f-4efb-8e0f-27203633d43d",
   "metadata": {},
   "source": [
    "# Fundamentos de Estatística"
   ]
  },
  {
   "cell_type": "markdown",
   "id": "7355bd7a-156a-4cd8-b485-2c6dda130a05",
   "metadata": {},
   "source": [
    "## Estatítica descritiva"
   ]
  },
  {
   "cell_type": "markdown",
   "id": "abbd2d17-5998-48ff-96e3-ea7a7c50edb6",
   "metadata": {},
   "source": [
    "### Qualitativos"
   ]
  },
  {
   "cell_type": "code",
   "execution_count": 4,
   "id": "94de601d-f7b6-4c34-b5e6-bcf05a1c4e4b",
   "metadata": {},
   "outputs": [
    {
     "data": {
      "text/html": [
       "<div>\n",
       "<style scoped>\n",
       "    .dataframe tbody tr th:only-of-type {\n",
       "        vertical-align: middle;\n",
       "    }\n",
       "\n",
       "    .dataframe tbody tr th {\n",
       "        vertical-align: top;\n",
       "    }\n",
       "\n",
       "    .dataframe thead th {\n",
       "        text-align: right;\n",
       "    }\n",
       "</style>\n",
       "<table border=\"1\" class=\"dataframe\">\n",
       "  <thead>\n",
       "    <tr style=\"text-align: right;\">\n",
       "      <th></th>\n",
       "      <th>Indivíduo</th>\n",
       "      <th>País de Origem</th>\n",
       "    </tr>\n",
       "  </thead>\n",
       "  <tbody>\n",
       "    <tr>\n",
       "      <th>0</th>\n",
       "      <td>1</td>\n",
       "      <td>Brasil</td>\n",
       "    </tr>\n",
       "    <tr>\n",
       "      <th>1</th>\n",
       "      <td>2</td>\n",
       "      <td>Inglaterra</td>\n",
       "    </tr>\n",
       "    <tr>\n",
       "      <th>2</th>\n",
       "      <td>3</td>\n",
       "      <td>Japão</td>\n",
       "    </tr>\n",
       "    <tr>\n",
       "      <th>3</th>\n",
       "      <td>4</td>\n",
       "      <td>EUA</td>\n",
       "    </tr>\n",
       "    <tr>\n",
       "      <th>4</th>\n",
       "      <td>5</td>\n",
       "      <td>Brasil</td>\n",
       "    </tr>\n",
       "  </tbody>\n",
       "</table>\n",
       "</div>"
      ],
      "text/plain": [
       "   Indivíduo País de Origem\n",
       "0          1         Brasil\n",
       "1          2     Inglaterra\n",
       "2          3          Japão\n",
       "3          4            EUA\n",
       "4          5         Brasil"
      ]
     },
     "execution_count": 4,
     "metadata": {},
     "output_type": "execute_result"
    }
   ],
   "source": [
    "qual_df = pd.read_excel(\n",
    "    xl_path,\n",
    "    sheet_name='Tabela de Frequências',\n",
    "    usecols=[0,1],\n",
    ")\n",
    "qual_df.head()"
   ]
  },
  {
   "cell_type": "code",
   "execution_count": 5,
   "id": "6b8d1fc9-a68c-46f5-a489-ac7839a2f223",
   "metadata": {
    "editable": true,
    "slideshow": {
     "slide_type": ""
    },
    "tags": []
   },
   "outputs": [
    {
     "data": {
      "text/html": [
       "<div>\n",
       "<style scoped>\n",
       "    .dataframe tbody tr th:only-of-type {\n",
       "        vertical-align: middle;\n",
       "    }\n",
       "\n",
       "    .dataframe tbody tr th {\n",
       "        vertical-align: top;\n",
       "    }\n",
       "\n",
       "    .dataframe thead th {\n",
       "        text-align: right;\n",
       "    }\n",
       "</style>\n",
       "<table border=\"1\" class=\"dataframe\">\n",
       "  <thead>\n",
       "    <tr style=\"text-align: right;\">\n",
       "      <th></th>\n",
       "      <th>cnt</th>\n",
       "      <th>relative_freq</th>\n",
       "      <th>cumcnt</th>\n",
       "      <th>cum_relative_freq</th>\n",
       "    </tr>\n",
       "    <tr>\n",
       "      <th>País de Origem</th>\n",
       "      <th></th>\n",
       "      <th></th>\n",
       "      <th></th>\n",
       "      <th></th>\n",
       "    </tr>\n",
       "  </thead>\n",
       "  <tbody>\n",
       "    <tr>\n",
       "      <th>Brasil</th>\n",
       "      <td>59</td>\n",
       "      <td>19.67</td>\n",
       "      <td>59</td>\n",
       "      <td>19.67</td>\n",
       "    </tr>\n",
       "    <tr>\n",
       "      <th>EUA</th>\n",
       "      <td>35</td>\n",
       "      <td>11.67</td>\n",
       "      <td>94</td>\n",
       "      <td>31.33</td>\n",
       "    </tr>\n",
       "    <tr>\n",
       "      <th>Índia</th>\n",
       "      <td>19</td>\n",
       "      <td>6.33</td>\n",
       "      <td>113</td>\n",
       "      <td>37.67</td>\n",
       "    </tr>\n",
       "    <tr>\n",
       "      <th>China</th>\n",
       "      <td>18</td>\n",
       "      <td>6.00</td>\n",
       "      <td>131</td>\n",
       "      <td>43.67</td>\n",
       "    </tr>\n",
       "    <tr>\n",
       "      <th>Uruguai</th>\n",
       "      <td>17</td>\n",
       "      <td>5.67</td>\n",
       "      <td>148</td>\n",
       "      <td>49.33</td>\n",
       "    </tr>\n",
       "    <tr>\n",
       "      <th>Japão</th>\n",
       "      <td>16</td>\n",
       "      <td>5.33</td>\n",
       "      <td>164</td>\n",
       "      <td>54.67</td>\n",
       "    </tr>\n",
       "    <tr>\n",
       "      <th>Austrália</th>\n",
       "      <td>15</td>\n",
       "      <td>5.00</td>\n",
       "      <td>179</td>\n",
       "      <td>59.67</td>\n",
       "    </tr>\n",
       "    <tr>\n",
       "      <th>África do Sul</th>\n",
       "      <td>14</td>\n",
       "      <td>4.67</td>\n",
       "      <td>193</td>\n",
       "      <td>64.33</td>\n",
       "    </tr>\n",
       "    <tr>\n",
       "      <th>Rússia</th>\n",
       "      <td>14</td>\n",
       "      <td>4.67</td>\n",
       "      <td>207</td>\n",
       "      <td>69.00</td>\n",
       "    </tr>\n",
       "    <tr>\n",
       "      <th>Inglaterra</th>\n",
       "      <td>12</td>\n",
       "      <td>4.00</td>\n",
       "      <td>219</td>\n",
       "      <td>73.00</td>\n",
       "    </tr>\n",
       "    <tr>\n",
       "      <th>Suiça</th>\n",
       "      <td>11</td>\n",
       "      <td>3.67</td>\n",
       "      <td>230</td>\n",
       "      <td>76.67</td>\n",
       "    </tr>\n",
       "    <tr>\n",
       "      <th>Argentina</th>\n",
       "      <td>10</td>\n",
       "      <td>3.33</td>\n",
       "      <td>240</td>\n",
       "      <td>80.00</td>\n",
       "    </tr>\n",
       "    <tr>\n",
       "      <th>Alemanha</th>\n",
       "      <td>10</td>\n",
       "      <td>3.33</td>\n",
       "      <td>250</td>\n",
       "      <td>83.33</td>\n",
       "    </tr>\n",
       "    <tr>\n",
       "      <th>França</th>\n",
       "      <td>10</td>\n",
       "      <td>3.33</td>\n",
       "      <td>260</td>\n",
       "      <td>86.67</td>\n",
       "    </tr>\n",
       "    <tr>\n",
       "      <th>Itália</th>\n",
       "      <td>9</td>\n",
       "      <td>3.00</td>\n",
       "      <td>269</td>\n",
       "      <td>89.67</td>\n",
       "    </tr>\n",
       "    <tr>\n",
       "      <th>Canadá</th>\n",
       "      <td>9</td>\n",
       "      <td>3.00</td>\n",
       "      <td>278</td>\n",
       "      <td>92.67</td>\n",
       "    </tr>\n",
       "    <tr>\n",
       "      <th>Egito</th>\n",
       "      <td>8</td>\n",
       "      <td>2.67</td>\n",
       "      <td>286</td>\n",
       "      <td>95.33</td>\n",
       "    </tr>\n",
       "    <tr>\n",
       "      <th>México</th>\n",
       "      <td>7</td>\n",
       "      <td>2.33</td>\n",
       "      <td>293</td>\n",
       "      <td>97.67</td>\n",
       "    </tr>\n",
       "    <tr>\n",
       "      <th>Chile</th>\n",
       "      <td>7</td>\n",
       "      <td>2.33</td>\n",
       "      <td>300</td>\n",
       "      <td>100.00</td>\n",
       "    </tr>\n",
       "  </tbody>\n",
       "</table>\n",
       "</div>"
      ],
      "text/plain": [
       "                cnt  relative_freq  cumcnt  cum_relative_freq\n",
       "País de Origem                                               \n",
       "Brasil           59          19.67      59              19.67\n",
       "EUA              35          11.67      94              31.33\n",
       "Índia            19           6.33     113              37.67\n",
       "China            18           6.00     131              43.67\n",
       "Uruguai          17           5.67     148              49.33\n",
       "Japão            16           5.33     164              54.67\n",
       "Austrália        15           5.00     179              59.67\n",
       "África do Sul    14           4.67     193              64.33\n",
       "Rússia           14           4.67     207              69.00\n",
       "Inglaterra       12           4.00     219              73.00\n",
       "Suiça            11           3.67     230              76.67\n",
       "Argentina        10           3.33     240              80.00\n",
       "Alemanha         10           3.33     250              83.33\n",
       "França           10           3.33     260              86.67\n",
       "Itália            9           3.00     269              89.67\n",
       "Canadá            9           3.00     278              92.67\n",
       "Egito             8           2.67     286              95.33\n",
       "México            7           2.33     293              97.67\n",
       "Chile             7           2.33     300             100.00"
      ]
     },
     "execution_count": 5,
     "metadata": {},
     "output_type": "execute_result"
    }
   ],
   "source": [
    "frequencies = (\n",
    "    qual_df.loc[:,'País de Origem']\n",
    "    .value_counts()\n",
    "    .to_frame(name='cnt')\n",
    "    .assign(\n",
    "        relative_freq=lambda df: df.cnt.div(df.cnt.sum()).mul(100),\n",
    "        cumcnt=lambda df: df.cnt.cumsum(),\n",
    "        cum_relative_freq=lambda df: df.cumcnt.div(df.cnt.sum()).mul(100),\n",
    "    )\n",
    "    .round(2)\n",
    ")\n",
    "frequencies"
   ]
  },
  {
   "cell_type": "code",
   "execution_count": 6,
   "id": "6783e899-64b6-42cc-a223-39e86e696a86",
   "metadata": {
    "editable": true,
    "slideshow": {
     "slide_type": ""
    },
    "tags": []
   },
   "outputs": [
    {
     "data": {
      "text/plain": [
       "<Axes: ylabel='relative_freq'>"
      ]
     },
     "execution_count": 6,
     "metadata": {},
     "output_type": "execute_result"
    },
    {
     "data": {
      "image/png": "[encoded data removed]",
      "text/plain": [
       "<Figure size 640x480 with 1 Axes>"
      ]
     },
     "metadata": {},
     "output_type": "display_data"
    }
   ],
   "source": [
    "frequencies.relative_freq.plot.pie()"
   ]
  },
  {
   "cell_type": "markdown",
   "id": "b9a2a446-792a-4ba7-b002-aaae4a2e9808",
   "metadata": {},
   "source": [
    "---"
   ]
  },
  {
   "cell_type": "markdown",
   "id": "dda56471-2609-497c-aa9e-c817689e77d7",
   "metadata": {},
   "source": [
    "### Quantitativos"
   ]
  },
  {
   "cell_type": "code",
   "execution_count": 7,
   "id": "75853eb1-5684-4c54-9996-a90b50014c05",
   "metadata": {},
   "outputs": [
    {
     "data": {
      "text/html": [
       "<div>\n",
       "<style scoped>\n",
       "    .dataframe tbody tr th:only-of-type {\n",
       "        vertical-align: middle;\n",
       "    }\n",
       "\n",
       "    .dataframe tbody tr th {\n",
       "        vertical-align: top;\n",
       "    }\n",
       "\n",
       "    .dataframe thead th {\n",
       "        text-align: right;\n",
       "    }\n",
       "</style>\n",
       "<table border=\"1\" class=\"dataframe\">\n",
       "  <thead>\n",
       "    <tr style=\"text-align: right;\">\n",
       "      <th></th>\n",
       "      <th>Nº Observação</th>\n",
       "      <th>Preço ($)</th>\n",
       "    </tr>\n",
       "  </thead>\n",
       "  <tbody>\n",
       "    <tr>\n",
       "      <th>0</th>\n",
       "      <td>1</td>\n",
       "      <td>189</td>\n",
       "    </tr>\n",
       "    <tr>\n",
       "      <th>1</th>\n",
       "      <td>2</td>\n",
       "      <td>195</td>\n",
       "    </tr>\n",
       "    <tr>\n",
       "      <th>2</th>\n",
       "      <td>3</td>\n",
       "      <td>199</td>\n",
       "    </tr>\n",
       "    <tr>\n",
       "      <th>3</th>\n",
       "      <td>4</td>\n",
       "      <td>189</td>\n",
       "    </tr>\n",
       "    <tr>\n",
       "      <th>4</th>\n",
       "      <td>5</td>\n",
       "      <td>197</td>\n",
       "    </tr>\n",
       "  </tbody>\n",
       "</table>\n",
       "</div>"
      ],
      "text/plain": [
       "   Nº Observação  Preço ($)\n",
       "0              1        189\n",
       "1              2        195\n",
       "2              3        199\n",
       "3              4        189\n",
       "4              5        197"
      ]
     },
     "execution_count": 7,
     "metadata": {},
     "output_type": "execute_result"
    }
   ],
   "source": [
    "quant_df = (\n",
    "    pd.read_excel(\n",
    "        xl_path,\n",
    "        sheet_name='Descritivas - Quantitativa',\n",
    "        usecols=[0,1],\n",
    "        nrows=100\n",
    "    )\n",
    ")\n",
    "quant_df.head()"
   ]
  },
  {
   "cell_type": "code",
   "execution_count": 8,
   "id": "33d62e17-c0c3-45d7-9879-0203172a824e",
   "metadata": {
    "editable": true,
    "slideshow": {
     "slide_type": ""
    },
    "tags": []
   },
   "outputs": [
    {
     "data": {
      "text/html": [
       "<div>\n",
       "<style scoped>\n",
       "    .dataframe tbody tr th:only-of-type {\n",
       "        vertical-align: middle;\n",
       "    }\n",
       "\n",
       "    .dataframe tbody tr th {\n",
       "        vertical-align: top;\n",
       "    }\n",
       "\n",
       "    .dataframe thead th {\n",
       "        text-align: right;\n",
       "    }\n",
       "</style>\n",
       "<table border=\"1\" class=\"dataframe\">\n",
       "  <thead>\n",
       "    <tr style=\"text-align: right;\">\n",
       "      <th></th>\n",
       "      <th>Preço ($)</th>\n",
       "    </tr>\n",
       "  </thead>\n",
       "  <tbody>\n",
       "    <tr>\n",
       "      <th>count</th>\n",
       "      <td>100.0000</td>\n",
       "    </tr>\n",
       "    <tr>\n",
       "      <th>mean</th>\n",
       "      <td>190.7700</td>\n",
       "    </tr>\n",
       "    <tr>\n",
       "      <th>std</th>\n",
       "      <td>15.6211</td>\n",
       "    </tr>\n",
       "    <tr>\n",
       "      <th>min</th>\n",
       "      <td>149.0000</td>\n",
       "    </tr>\n",
       "    <tr>\n",
       "      <th>20%</th>\n",
       "      <td>179.0000</td>\n",
       "    </tr>\n",
       "    <tr>\n",
       "      <th>25%</th>\n",
       "      <td>179.0000</td>\n",
       "    </tr>\n",
       "    <tr>\n",
       "      <th>44%</th>\n",
       "      <td>189.0000</td>\n",
       "    </tr>\n",
       "    <tr>\n",
       "      <th>50%</th>\n",
       "      <td>189.0000</td>\n",
       "    </tr>\n",
       "    <tr>\n",
       "      <th>60%</th>\n",
       "      <td>196.4000</td>\n",
       "    </tr>\n",
       "    <tr>\n",
       "      <th>75%</th>\n",
       "      <td>199.0000</td>\n",
       "    </tr>\n",
       "    <tr>\n",
       "      <th>85%</th>\n",
       "      <td>205.0000</td>\n",
       "    </tr>\n",
       "    <tr>\n",
       "      <th>max</th>\n",
       "      <td>239.0000</td>\n",
       "    </tr>\n",
       "    <tr>\n",
       "      <th>amplitude</th>\n",
       "      <td>90.0000</td>\n",
       "    </tr>\n",
       "    <tr>\n",
       "      <th>var</th>\n",
       "      <td>244.0173</td>\n",
       "    </tr>\n",
       "    <tr>\n",
       "      <th>stderr</th>\n",
       "      <td>1.5621</td>\n",
       "    </tr>\n",
       "    <tr>\n",
       "      <th>cov</th>\n",
       "      <td>8.1884</td>\n",
       "    </tr>\n",
       "    <tr>\n",
       "      <th>mode</th>\n",
       "      <td>199.0000</td>\n",
       "    </tr>\n",
       "    <tr>\n",
       "      <th>skew</th>\n",
       "      <td>0.0899</td>\n",
       "    </tr>\n",
       "    <tr>\n",
       "      <th>kurtosis</th>\n",
       "      <td>0.6695</td>\n",
       "    </tr>\n",
       "  </tbody>\n",
       "</table>\n",
       "</div>"
      ],
      "text/plain": [
       "           Preço ($)\n",
       "count       100.0000\n",
       "mean        190.7700\n",
       "std          15.6211\n",
       "min         149.0000\n",
       "20%         179.0000\n",
       "25%         179.0000\n",
       "44%         189.0000\n",
       "50%         189.0000\n",
       "60%         196.4000\n",
       "75%         199.0000\n",
       "85%         205.0000\n",
       "max         239.0000\n",
       "amplitude    90.0000\n",
       "var         244.0173\n",
       "stderr        1.5621\n",
       "cov           8.1884\n",
       "mode        199.0000\n",
       "skew          0.0899\n",
       "kurtosis      0.6695"
      ]
     },
     "execution_count": 8,
     "metadata": {},
     "output_type": "execute_result"
    }
   ],
   "source": [
    "(\n",
    "    quant_df[['Preço ($)']].describe(percentiles=[.25,.75,.2,.6,.44,.85])\n",
    "    .T\n",
    "    .assign(\n",
    "        amplitude=quant_df['Preço ($)'].max()-quant_df['Preço ($)'].min(),\n",
    "        var=quant_df['Preço ($)'].var(),\n",
    "        stderr=quant_df['Preço ($)'].sem(),\n",
    "        cov=(quant_df['Preço ($)'].std()/quant_df['Preço ($)'].mean())*100,\n",
    "        mode=quant_df['Preço ($)'].mode().values if len(quant_df['Preço ($)'].mode().values) == 1 else np.nan,\n",
    "        skew=quant_df['Preço ($)'].skew(),\n",
    "        kurtosis=quant_df['Preço ($)'].kurt(),\n",
    "    )\n",
    "    .round(4)\n",
    "    .T\n",
    ")"
   ]
  },
  {
   "cell_type": "markdown",
   "id": "ba7dbade-d2f8-459a-9aa7-ab9003a0caf8",
   "metadata": {
    "editable": true,
    "slideshow": {
     "slide_type": ""
    },
    "tags": []
   },
   "source": [
    "PDF"
   ]
  },
  {
   "cell_type": "code",
   "execution_count": 9,
   "id": "b9407f1e-d3e0-4191-a790-e5c0d2988c7c",
   "metadata": {},
   "outputs": [
    {
     "data": {
      "text/plain": [
       "<Axes: xlabel='Preço ($)', ylabel='Density'>"
      ]
     },
     "execution_count": 9,
     "metadata": {},
     "output_type": "execute_result"
    },
    {
     "data": {
      "image/png": "[encoded data removed]",
      "text/plain": [
       "<Figure size 640x480 with 1 Axes>"
      ]
     },
     "metadata": {},
     "output_type": "display_data"
    }
   ],
   "source": [
    "sns.kdeplot(\n",
    "    data=quant_df, x='Preço ($)',\n",
    ")"
   ]
  },
  {
   "cell_type": "markdown",
   "id": "934f5a8e-4277-4135-a1a7-531091f913db",
   "metadata": {},
   "source": [
    "CDF"
   ]
  },
  {
   "cell_type": "code",
   "execution_count": 10,
   "id": "c91a3a97-7607-4fb8-bccc-70560a9e4557",
   "metadata": {},
   "outputs": [
    {
     "data": {
      "text/plain": [
       "<Axes: xlabel='Preço ($)', ylabel='Density'>"
      ]
     },
     "execution_count": 10,
     "metadata": {},
     "output_type": "execute_result"
    },
    {
     "data": {
      "image/png": "[encoded data removed]",
      "text/plain": [
       "<Figure size 640x480 with 1 Axes>"
      ]
     },
     "metadata": {},
     "output_type": "display_data"
    }
   ],
   "source": [
    "sns.kdeplot(\n",
    "    data=quant_df, x='Preço ($)',\n",
    "    cumulative=True, common_norm=False, common_grid=True,\n",
    ")"
   ]
  },
  {
   "cell_type": "markdown",
   "id": "5a4f4d4c-b0a1-4367-98a9-1b82b4d03f13",
   "metadata": {},
   "source": [
    "---"
   ]
  },
  {
   "cell_type": "markdown",
   "id": "1b31dfe1-6c7c-4cf1-99c8-b79ef3b0c8d9",
   "metadata": {},
   "source": [
    "## Teste Qui²"
   ]
  },
  {
   "cell_type": "code",
   "execution_count": 11,
   "id": "581118a0-20f9-473a-b0b7-e091521100f6",
   "metadata": {},
   "outputs": [
    {
     "data": {
      "text/html": [
       "<div>\n",
       "<style scoped>\n",
       "    .dataframe tbody tr th:only-of-type {\n",
       "        vertical-align: middle;\n",
       "    }\n",
       "\n",
       "    .dataframe tbody tr th {\n",
       "        vertical-align: top;\n",
       "    }\n",
       "\n",
       "    .dataframe thead th {\n",
       "        text-align: right;\n",
       "    }\n",
       "</style>\n",
       "<table border=\"1\" class=\"dataframe\">\n",
       "  <thead>\n",
       "    <tr style=\"text-align: right;\">\n",
       "      <th></th>\n",
       "      <th>Baixo</th>\n",
       "      <th>Médio</th>\n",
       "      <th>Alto</th>\n",
       "    </tr>\n",
       "  </thead>\n",
       "  <tbody>\n",
       "    <tr>\n",
       "      <th>Total Health</th>\n",
       "      <td>40</td>\n",
       "      <td>16</td>\n",
       "      <td>12</td>\n",
       "    </tr>\n",
       "    <tr>\n",
       "      <th>Viva Vida</th>\n",
       "      <td>32</td>\n",
       "      <td>24</td>\n",
       "      <td>16</td>\n",
       "    </tr>\n",
       "    <tr>\n",
       "      <th>Mena Saúde</th>\n",
       "      <td>24</td>\n",
       "      <td>32</td>\n",
       "      <td>4</td>\n",
       "    </tr>\n",
       "  </tbody>\n",
       "</table>\n",
       "</div>"
      ],
      "text/plain": [
       "              Baixo  Médio  Alto\n",
       "Total Health     40     16    12\n",
       "Viva Vida        32     24    16\n",
       "Mena Saúde       24     32     4"
      ]
     },
     "execution_count": 11,
     "metadata": {},
     "output_type": "execute_result"
    }
   ],
   "source": [
    "chi_df = (\n",
    "    pd.read_excel(\n",
    "        xl_path,\n",
    "        sheet_name='Associação - Qui²',\n",
    "        usecols=[1,2,3,4],\n",
    "        header=3,\n",
    "        index_col=0,\n",
    "        nrows=3,\n",
    "    )\n",
    ")\n",
    "chi_df.head()"
   ]
  },
  {
   "cell_type": "code",
   "execution_count": 12,
   "id": "b6e05946-61f6-4d77-b17b-239ee49f6db9",
   "metadata": {},
   "outputs": [
    {
     "data": {
      "text/plain": [
       "Total Health  Baixo    40\n",
       "              Médio    16\n",
       "              Alto     12\n",
       "Viva Vida     Baixo    32\n",
       "              Médio    24\n",
       "              Alto     16\n",
       "Mena Saúde    Baixo    24\n",
       "              Médio    32\n",
       "              Alto      4\n",
       "dtype: int64"
      ]
     },
     "execution_count": 12,
     "metadata": {},
     "output_type": "execute_result"
    }
   ],
   "source": [
    "f_obs = (\n",
    "    chi_df\n",
    "    .stack()\n",
    ")\n",
    "f_obs"
   ]
  },
  {
   "cell_type": "code",
   "execution_count": 13,
   "id": "61d570ff-e207-43e4-bbd9-4bdbf4ed2262",
   "metadata": {},
   "outputs": [
    {
     "data": {
      "text/plain": [
       "Total Health  Baixo    32.64\n",
       "              Médio    24.48\n",
       "              Alto     10.88\n",
       "Viva Vida     Baixo    34.56\n",
       "              Médio    25.92\n",
       "              Alto     11.52\n",
       "Mena Saúde    Baixo    28.80\n",
       "              Médio    21.60\n",
       "              Alto      9.60\n",
       "dtype: float64"
      ]
     },
     "execution_count": 13,
     "metadata": {},
     "output_type": "execute_result"
    }
   ],
   "source": [
    "f_exp = (\n",
    "    pd.concat([\n",
    "        f_obs.groupby(level=0).sum(),\n",
    "        f_obs.groupby(level=1).sum()\n",
    "    ])\n",
    "    .to_frame()\n",
    "    .T\n",
    "    .corr(method=lambda x,y: x*y/f_obs.sum())\n",
    "    .stack()\n",
    "    .loc[f_obs.index]\n",
    ")\n",
    "f_exp"
   ]
  },
  {
   "cell_type": "code",
   "execution_count": 14,
   "id": "a930c744-17c9-494c-b758-ea751bb7ed2f",
   "metadata": {
    "editable": true,
    "slideshow": {
     "slide_type": ""
    },
    "tags": []
   },
   "outputs": [
    {
     "name": "stdout",
     "output_type": "stream",
     "text": [
      "χ²: 15.861\n",
      "pvalue: 0.0032\n",
      "Critical (.05): 9.488\n",
      "\n"
     ]
    }
   ],
   "source": [
    "ddof = 6-2\n",
    "chi2val, pvalue = chisquare(f_obs, f_exp, ddof=ddof)\n",
    "critical05 = chi2.ppf(1-.05, ddof)\n",
    "print(f'''χ²: {chi2val:.3f}\n",
    "pvalue: {pvalue:.4f}\n",
    "Critical (.05): {critical05:.3f}\n",
    "''')"
   ]
  },
  {
   "cell_type": "code",
   "execution_count": null,
   "id": "344485f6-8259-4f98-b1f6-1123bea9b493",
   "metadata": {
    "editable": true,
    "slideshow": {
     "slide_type": ""
    },
    "tags": []
   },
   "outputs": [],
   "source": []
  }
 ],
 "metadata": {
  "kernelspec": {
   "display_name": "Python 3 (ipykernel)",
   "language": "python",
   "name": "python3"
  },
  "language_info": {
   "codemirror_mode": {
    "name": "ipython",
    "version": 3
   },
   "file_extension": ".py",
   "mimetype": "text/x-python",
   "name": "python",
   "nbconvert_exporter": "python",
   "pygments_lexer": "ipython3",
   "version": "3.12.2"
  }
 },
 "nbformat": 4,
 "nbformat_minor": 5
}
