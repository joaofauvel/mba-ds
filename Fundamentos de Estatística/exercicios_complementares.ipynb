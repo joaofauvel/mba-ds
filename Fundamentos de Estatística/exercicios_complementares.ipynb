{
 "cells": [
  {
   "cell_type": "code",
   "execution_count": 1,
   "id": "ed087d1b-cfa7-4a73-bd3c-88df13384474",
   "metadata": {
    "editable": true,
    "slideshow": {
     "slide_type": ""
    },
    "tags": []
   },
   "outputs": [],
   "source": [
    "# !pip install pandas numpy seaborn scipy pingouin openpyxl"
   ]
  },
  {
   "cell_type": "code",
   "execution_count": 2,
   "id": "476aa214-2bc5-4276-a305-4d4d5486f7eb",
   "metadata": {
    "editable": true,
    "slideshow": {
     "slide_type": ""
    },
    "tags": []
   },
   "outputs": [],
   "source": [
    "import pandas as pd\n",
    "import numpy as np\n",
    "import seaborn.objects as so\n",
    "import seaborn as sns\n",
    "from scipy import stats\n",
    "import math\n",
    "import pingouin as pg"
   ]
  },
  {
   "cell_type": "code",
   "execution_count": 3,
   "id": "974a2dc3-a16a-4c58-95f9-b43f485f683d",
   "metadata": {},
   "outputs": [],
   "source": [
    "xl_path = 'Lista de Exercicios - Complementaresxlsx Portugues.xlsx'"
   ]
  },
  {
   "cell_type": "markdown",
   "id": "0a96ad7a-cf5e-46f7-b681-f8df30179017",
   "metadata": {},
   "source": [
    "# Lista de Exercícios"
   ]
  },
  {
   "cell_type": "markdown",
   "id": "f46a5e12-306c-4e7e-ba8e-c55372d9e0ad",
   "metadata": {},
   "source": [
    "## Exercício 1"
   ]
  },
  {
   "cell_type": "code",
   "execution_count": 4,
   "id": "be7c483b-c772-4d20-a417-52b226f7e569",
   "metadata": {
    "editable": true,
    "slideshow": {
     "slide_type": ""
    },
    "tags": []
   },
   "outputs": [],
   "source": [
    "def freq(df: pd.DataFrame, col: str, sort_index=False) -> pd.DataFrame:\n",
    "    res = (\n",
    "        df.loc[:,col]\n",
    "        .value_counts()\n",
    "        .to_frame(name='cnt')\n",
    "        .pipe(lambda df: df.sort_index() if sort_index else df)\n",
    "        .assign(\n",
    "            relative_freq=lambda df: df.cnt.div(df.cnt.sum()).mul(100),\n",
    "            cumcnt=lambda df: df.cnt.cumsum(),\n",
    "            cum_relative_freq=lambda df: df.cumcnt.div(df.cnt.sum()).mul(100),\n",
    "        )\n",
    "    )\n",
    "    return res"
   ]
  },
  {
   "cell_type": "code",
   "execution_count": 5,
   "id": "799076b0-55f0-4813-b006-43ffdc5e7e02",
   "metadata": {},
   "outputs": [
    {
     "data": {
      "text/html": [
       "<div>\n",
       "<style scoped>\n",
       "    .dataframe tbody tr th:only-of-type {\n",
       "        vertical-align: middle;\n",
       "    }\n",
       "\n",
       "    .dataframe tbody tr th {\n",
       "        vertical-align: top;\n",
       "    }\n",
       "\n",
       "    .dataframe thead th {\n",
       "        text-align: right;\n",
       "    }\n",
       "</style>\n",
       "<table border=\"1\" class=\"dataframe\">\n",
       "  <thead>\n",
       "    <tr style=\"text-align: right;\">\n",
       "      <th></th>\n",
       "      <th>cnt</th>\n",
       "      <th>relative_freq</th>\n",
       "      <th>cumcnt</th>\n",
       "      <th>cum_relative_freq</th>\n",
       "    </tr>\n",
       "    <tr>\n",
       "      <th>bins</th>\n",
       "      <th></th>\n",
       "      <th></th>\n",
       "      <th></th>\n",
       "      <th></th>\n",
       "    </tr>\n",
       "  </thead>\n",
       "  <tbody>\n",
       "    <tr>\n",
       "      <th>(0, 2000]</th>\n",
       "      <td>9</td>\n",
       "      <td>18.0</td>\n",
       "      <td>9</td>\n",
       "      <td>18.0</td>\n",
       "    </tr>\n",
       "    <tr>\n",
       "      <th>(2000, 4000]</th>\n",
       "      <td>19</td>\n",
       "      <td>38.0</td>\n",
       "      <td>28</td>\n",
       "      <td>56.0</td>\n",
       "    </tr>\n",
       "    <tr>\n",
       "      <th>(4000, 6000]</th>\n",
       "      <td>11</td>\n",
       "      <td>22.0</td>\n",
       "      <td>39</td>\n",
       "      <td>78.0</td>\n",
       "    </tr>\n",
       "    <tr>\n",
       "      <th>(6000, 8000]</th>\n",
       "      <td>5</td>\n",
       "      <td>10.0</td>\n",
       "      <td>44</td>\n",
       "      <td>88.0</td>\n",
       "    </tr>\n",
       "    <tr>\n",
       "      <th>(8000, 10000]</th>\n",
       "      <td>4</td>\n",
       "      <td>8.0</td>\n",
       "      <td>48</td>\n",
       "      <td>96.0</td>\n",
       "    </tr>\n",
       "    <tr>\n",
       "      <th>(10000, 12000]</th>\n",
       "      <td>2</td>\n",
       "      <td>4.0</td>\n",
       "      <td>50</td>\n",
       "      <td>100.0</td>\n",
       "    </tr>\n",
       "  </tbody>\n",
       "</table>\n",
       "</div>"
      ],
      "text/plain": [
       "                cnt  relative_freq  cumcnt  cum_relative_freq\n",
       "bins                                                         \n",
       "(0, 2000]         9           18.0       9               18.0\n",
       "(2000, 4000]     19           38.0      28               56.0\n",
       "(4000, 6000]     11           22.0      39               78.0\n",
       "(6000, 8000]      5           10.0      44               88.0\n",
       "(8000, 10000]     4            8.0      48               96.0\n",
       "(10000, 12000]    2            4.0      50              100.0"
      ]
     },
     "execution_count": 5,
     "metadata": {},
     "output_type": "execute_result"
    }
   ],
   "source": [
    "(\n",
    "    pd.read_excel(\n",
    "        xl_path,\n",
    "        sheet_name='Exercício 1',\n",
    "        usecols=[0,1],\n",
    "        nrows=50,\n",
    "    )\n",
    "    .assign(\n",
    "        bins=lambda df: df['Renda (R$)'].pipe(pd.cut,bins=[0,2000,4000,6000,8000,10000,12000]),\n",
    "    )\n",
    "    .pipe(freq,col='bins',sort_index=True)\n",
    ")"
   ]
  },
  {
   "cell_type": "markdown",
   "id": "21bac2e2-81ba-4b26-b5bb-4490626049fa",
   "metadata": {
    "editable": true,
    "slideshow": {
     "slide_type": ""
    },
    "tags": []
   },
   "source": [
    "---"
   ]
  },
  {
   "cell_type": "markdown",
   "id": "2ffcbd93-1e1f-4ae2-8f96-f577e43d6924",
   "metadata": {},
   "source": [
    "## Exercício 2"
   ]
  },
  {
   "cell_type": "code",
   "execution_count": 6,
   "id": "c537d101-00bb-449b-ae97-00ae88acb385",
   "metadata": {
    "editable": true,
    "slideshow": {
     "slide_type": ""
    },
    "tags": []
   },
   "outputs": [],
   "source": [
    "def describe_more(ser: pd.Series, **kwargs) -> pd.Series:\n",
    "    res = (    \n",
    "        ser.describe(**kwargs)\n",
    "        .to_frame()\n",
    "        .T\n",
    "        .assign(\n",
    "            amplitude=ser.max()-ser.min(),\n",
    "            var=ser.var(),\n",
    "            stderr=ser.sem(),\n",
    "            cov=(ser.std()/ser.mean())*100,\n",
    "            mode=ser.mode().values if len(ser.mode().values) == 1 else np.nan,\n",
    "            skew=ser.skew(),\n",
    "            kurtosis=ser.kurt(),\n",
    "        )\n",
    "        .T\n",
    "        .iloc[:,0]\n",
    "    )\n",
    "    return res\n"
   ]
  },
  {
   "cell_type": "code",
   "execution_count": 7,
   "id": "b73c3048-4639-4878-ae76-2c3e6b21dd5e",
   "metadata": {},
   "outputs": [],
   "source": [
    "exerc2_df = (\n",
    "    pd.read_excel(\n",
    "        xl_path,\n",
    "        sheet_name='Exercício 2',\n",
    "        usecols=[0,1,2],\n",
    "        nrows=24,\n",
    "        index_col=0,\n",
    "    )\n",
    ")"
   ]
  },
  {
   "cell_type": "code",
   "execution_count": 8,
   "id": "5238fe37-ed9c-42d6-968d-b0ac1a84c383",
   "metadata": {},
   "outputs": [
    {
     "data": {
      "text/html": [
       "<div>\n",
       "<style scoped>\n",
       "    .dataframe tbody tr th:only-of-type {\n",
       "        vertical-align: middle;\n",
       "    }\n",
       "\n",
       "    .dataframe tbody tr th {\n",
       "        vertical-align: top;\n",
       "    }\n",
       "\n",
       "    .dataframe thead th {\n",
       "        text-align: right;\n",
       "    }\n",
       "</style>\n",
       "<table border=\"1\" class=\"dataframe\">\n",
       "  <thead>\n",
       "    <tr style=\"text-align: right;\">\n",
       "      <th></th>\n",
       "      <th>Ação 1</th>\n",
       "      <th>Ação 2</th>\n",
       "    </tr>\n",
       "  </thead>\n",
       "  <tbody>\n",
       "    <tr>\n",
       "      <th>count</th>\n",
       "      <td>23.0000</td>\n",
       "      <td>23.0000</td>\n",
       "    </tr>\n",
       "    <tr>\n",
       "      <th>mean</th>\n",
       "      <td>0.0352</td>\n",
       "      <td>0.1511</td>\n",
       "    </tr>\n",
       "    <tr>\n",
       "      <th>std</th>\n",
       "      <td>0.1292</td>\n",
       "      <td>0.2038</td>\n",
       "    </tr>\n",
       "    <tr>\n",
       "      <th>min</th>\n",
       "      <td>-0.2018</td>\n",
       "      <td>-0.1490</td>\n",
       "    </tr>\n",
       "    <tr>\n",
       "      <th>25%</th>\n",
       "      <td>-0.0612</td>\n",
       "      <td>0.0204</td>\n",
       "    </tr>\n",
       "    <tr>\n",
       "      <th>27%</th>\n",
       "      <td>-0.0564</td>\n",
       "      <td>0.0208</td>\n",
       "    </tr>\n",
       "    <tr>\n",
       "      <th>50%</th>\n",
       "      <td>0.0370</td>\n",
       "      <td>0.1248</td>\n",
       "    </tr>\n",
       "    <tr>\n",
       "      <th>64%</th>\n",
       "      <td>0.0763</td>\n",
       "      <td>0.1825</td>\n",
       "    </tr>\n",
       "    <tr>\n",
       "      <th>75%</th>\n",
       "      <td>0.1160</td>\n",
       "      <td>0.2333</td>\n",
       "    </tr>\n",
       "    <tr>\n",
       "      <th>80%</th>\n",
       "      <td>0.1260</td>\n",
       "      <td>0.2619</td>\n",
       "    </tr>\n",
       "    <tr>\n",
       "      <th>90%</th>\n",
       "      <td>0.2235</td>\n",
       "      <td>0.4280</td>\n",
       "    </tr>\n",
       "    <tr>\n",
       "      <th>max</th>\n",
       "      <td>0.2814</td>\n",
       "      <td>0.6260</td>\n",
       "    </tr>\n",
       "    <tr>\n",
       "      <th>amplitude</th>\n",
       "      <td>0.4832</td>\n",
       "      <td>0.7750</td>\n",
       "    </tr>\n",
       "    <tr>\n",
       "      <th>var</th>\n",
       "      <td>0.0167</td>\n",
       "      <td>0.0415</td>\n",
       "    </tr>\n",
       "    <tr>\n",
       "      <th>stderr</th>\n",
       "      <td>0.0269</td>\n",
       "      <td>0.0425</td>\n",
       "    </tr>\n",
       "    <tr>\n",
       "      <th>cov</th>\n",
       "      <td>367.0591</td>\n",
       "      <td>134.8613</td>\n",
       "    </tr>\n",
       "    <tr>\n",
       "      <th>mode</th>\n",
       "      <td>NaN</td>\n",
       "      <td>NaN</td>\n",
       "    </tr>\n",
       "    <tr>\n",
       "      <th>skew</th>\n",
       "      <td>0.1884</td>\n",
       "      <td>0.7570</td>\n",
       "    </tr>\n",
       "    <tr>\n",
       "      <th>kurtosis</th>\n",
       "      <td>-0.5477</td>\n",
       "      <td>0.2918</td>\n",
       "    </tr>\n",
       "  </tbody>\n",
       "</table>\n",
       "</div>"
      ],
      "text/plain": [
       "             Ação 1    Ação 2\n",
       "count       23.0000   23.0000\n",
       "mean         0.0352    0.1511\n",
       "std          0.1292    0.2038\n",
       "min         -0.2018   -0.1490\n",
       "25%         -0.0612    0.0204\n",
       "27%         -0.0564    0.0208\n",
       "50%          0.0370    0.1248\n",
       "64%          0.0763    0.1825\n",
       "75%          0.1160    0.2333\n",
       "80%          0.1260    0.2619\n",
       "90%          0.2235    0.4280\n",
       "max          0.2814    0.6260\n",
       "amplitude    0.4832    0.7750\n",
       "var          0.0167    0.0415\n",
       "stderr       0.0269    0.0425\n",
       "cov        367.0591  134.8613\n",
       "mode            NaN       NaN\n",
       "skew         0.1884    0.7570\n",
       "kurtosis    -0.5477    0.2918"
      ]
     },
     "execution_count": 8,
     "metadata": {},
     "output_type": "execute_result"
    }
   ],
   "source": [
    "(\n",
    "    exerc2_df.T\n",
    "    .groupby(level=0)\n",
    "    .apply(lambda df: df.iloc[0].pipe(describe_more,percentiles=[.25,.75,.8,.9,.27,.64]))\n",
    "    .T\n",
    "    .round(4)\n",
    ")"
   ]
  },
  {
   "cell_type": "markdown",
   "id": "816c835d-8729-4738-81f5-7bd7fbe6ae5a",
   "metadata": {},
   "source": [
    "$ \\displaystyle t=\\frac{r}{\\sqrt{(1-r^2)/(n-2)}} $"
   ]
  },
  {
   "cell_type": "code",
   "execution_count": 9,
   "id": "1ad47ade-2be1-432d-8b1e-81d5898f25b0",
   "metadata": {},
   "outputs": [],
   "source": [
    "def ttest_corr(r, n):\n",
    "    return r/np.sqrt((1-r**2)/(n-2))"
   ]
  },
  {
   "cell_type": "code",
   "execution_count": 10,
   "id": "d37638ad-73eb-4a8d-81bb-9bd342905a7b",
   "metadata": {
    "editable": true,
    "slideshow": {
     "slide_type": ""
    },
    "tags": []
   },
   "outputs": [],
   "source": [
    "i, j = exerc2_df.shape\n",
    "ddof = i-j\n",
    "r, pvalue = stats.pearsonr(*exerc2_df.T.to_numpy())\n",
    "T = ttest_corr(r, exerc2_df.count().iloc[0])\n",
    "critical05 = stats.t.isf(.05/2, ddof)  # 2-tail, thus we divide by 2"
   ]
  },
  {
   "cell_type": "code",
   "execution_count": 11,
   "id": "6f4d6cc5-527a-42d9-bb14-1ea1f5130863",
   "metadata": {
    "editable": true,
    "jupyter": {
     "source_hidden": true
    },
    "slideshow": {
     "slide_type": ""
    },
    "tags": []
   },
   "outputs": [
    {
     "name": "stdout",
     "output_type": "stream",
     "text": [
      "r: 0.2908\n",
      "T: 1.3929\n",
      "pvalue: 0.1782\n",
      "Critical (.05): 2.0796\n",
      "\n"
     ]
    }
   ],
   "source": [
    "print(f'''r: {r:.4f}\n",
    "T: {T:.4f}\n",
    "pvalue: {pvalue:.4f}\n",
    "Critical (.05): {critical05:.4f}\n",
    "''')"
   ]
  },
  {
   "cell_type": "markdown",
   "id": "8d0bde88-4deb-4c0c-9343-0548cabb28c2",
   "metadata": {
    "editable": true,
    "slideshow": {
     "slide_type": ""
    },
    "tags": []
   },
   "source": [
    "---"
   ]
  },
  {
   "cell_type": "markdown",
   "id": "31879651-3e0a-41b7-8936-05096dab465b",
   "metadata": {},
   "source": [
    "## Exercício 3"
   ]
  },
  {
   "cell_type": "code",
   "execution_count": 12,
   "id": "8855aa6a-8d04-4af2-b34d-aae82f02b663",
   "metadata": {},
   "outputs": [],
   "source": [
    "pdist = stats.binom(n=10,p=1/6)"
   ]
  },
  {
   "cell_type": "markdown",
   "id": "0f1f9cdb-d415-4096-879c-b93bb302eadc",
   "metadata": {},
   "source": [
    "a) P(k=4)"
   ]
  },
  {
   "cell_type": "code",
   "execution_count": 13,
   "id": "bbdbc209-8e87-4224-a214-b339506b44c6",
   "metadata": {},
   "outputs": [],
   "source": [
    "kle4 = pdist.pmf(k=4)"
   ]
  },
  {
   "cell_type": "code",
   "execution_count": 14,
   "id": "15a95552-7d15-424a-a0e5-e714d2b08f13",
   "metadata": {},
   "outputs": [
    {
     "name": "stdout",
     "output_type": "stream",
     "text": [
      "5.4266%\n"
     ]
    }
   ],
   "source": [
    "print(f'{kle4*100:.4f}%')"
   ]
  },
  {
   "cell_type": "markdown",
   "id": "365f98aa-cac9-4749-b65d-3057eb25778c",
   "metadata": {},
   "source": [
    "b) P(k>=7)"
   ]
  },
  {
   "cell_type": "code",
   "execution_count": 15,
   "id": "bd8fb860-a875-437f-a72c-ec035078e1c2",
   "metadata": {},
   "outputs": [],
   "source": [
    "kge7 = pdist.sf(6)  # ge7 == gt6"
   ]
  },
  {
   "cell_type": "code",
   "execution_count": 16,
   "id": "420fdd65-a052-47d0-b005-21c4bc885747",
   "metadata": {
    "jupyter": {
     "source_hidden": true
    }
   },
   "outputs": [
    {
     "name": "stdout",
     "output_type": "stream",
     "text": [
      "0.0268%\n"
     ]
    }
   ],
   "source": [
    "print(f'{kge7*100:.4f}%')"
   ]
  },
  {
   "cell_type": "markdown",
   "id": "267d123f-05ba-470a-ba93-84c937529b7c",
   "metadata": {},
   "source": [
    "---"
   ]
  },
  {
   "cell_type": "markdown",
   "id": "22bc19ea-84a5-4c84-aeaa-f56a54e2466b",
   "metadata": {},
   "source": [
    "## Exercício 4"
   ]
  },
  {
   "cell_type": "markdown",
   "id": "aa4657b0-b8fb-4239-a53b-847463bad3f5",
   "metadata": {},
   "source": [
    "P(k=8) | P(n=12), onde k é o número de falhas e n o número de sucessos"
   ]
  },
  {
   "cell_type": "code",
   "execution_count": 17,
   "id": "72c62ada-eb93-4008-a13e-a83be5ee5297",
   "metadata": {},
   "outputs": [
    {
     "name": "stdout",
     "output_type": "stream",
     "text": [
      "10.7823%\n"
     ]
    }
   ],
   "source": [
    "print(f'{stats.nbinom.pmf(k=8,n=12,p=3/5)*100:.4f}%')"
   ]
  },
  {
   "cell_type": "markdown",
   "id": "97c76e5f-2116-4b0e-bbd2-a3a26d86e1c5",
   "metadata": {},
   "source": [
    "---"
   ]
  },
  {
   "cell_type": "markdown",
   "id": "b2773fb0-dcca-46ed-b9c3-3ab0f65bc21e",
   "metadata": {},
   "source": [
    "## Exercício 5"
   ]
  },
  {
   "cell_type": "markdown",
   "id": "a23d8f1a-2ab6-4f2f-aa9e-70e4a9dc5e21",
   "metadata": {},
   "source": [
    "Queremos saber a probabilidade de que 28 sejam tratados na próxima semana, dado que 3 são tratados diariamente. Isso significa que o nosso intervalo de tempo de interesse é de 7 dias, ou seja qual a probabilidade na semana inteira, ao invés de apenas um dia. A probabilidade de um evento ocorrer durante a semana inteira é intuitivamente menor do que em apenas um dia, dadas as mesmas proporções relativas (um aumento de 1/3 na demanda)."
   ]
  },
  {
   "cell_type": "code",
   "execution_count": 18,
   "id": "62c1d733-87f3-4039-bdcb-ff5be23e41ea",
   "metadata": {},
   "outputs": [
    {
     "name": "stdout",
     "output_type": "stream",
     "text": [
      "2.6171%\n"
     ]
    }
   ],
   "source": [
    "print(f'{stats.poisson.pmf(k=28,mu=3*7)*100:.4f}%')"
   ]
  },
  {
   "cell_type": "markdown",
   "id": "a04ba07c-9c09-42dc-a068-1f4bf2230e10",
   "metadata": {},
   "source": [
    "---"
   ]
  },
  {
   "cell_type": "markdown",
   "id": "2bf6db44-b39c-4cb5-9d24-d416a0d402c2",
   "metadata": {},
   "source": [
    "## Exercício 6"
   ]
  },
  {
   "cell_type": "code",
   "execution_count": 19,
   "id": "454ce5e2-3b07-4e7d-b6d6-12590af437e3",
   "metadata": {},
   "outputs": [],
   "source": [
    "dist = stats.norm(loc=26.5, scale=4)  # `loc` is mu and `scale` is sigma"
   ]
  },
  {
   "cell_type": "markdown",
   "id": "2d8ff589-e809-4366-9e5e-3e773e617dad",
   "metadata": {},
   "source": [
    "a) P(x>37)"
   ]
  },
  {
   "cell_type": "code",
   "execution_count": 20,
   "id": "ca36eef1-4584-4971-abcd-948136a9c24c",
   "metadata": {},
   "outputs": [
    {
     "name": "stdout",
     "output_type": "stream",
     "text": [
      "0.0043\n"
     ]
    }
   ],
   "source": [
    "print(f'{dist.sf(37):.4f}')"
   ]
  },
  {
   "cell_type": "markdown",
   "id": "a082aa88-790b-46d4-953f-e8fb4befc5bf",
   "metadata": {},
   "source": [
    "b) P(x<20)"
   ]
  },
  {
   "cell_type": "code",
   "execution_count": 21,
   "id": "6335a442-1c5d-4693-ba05-82bdbd34586b",
   "metadata": {},
   "outputs": [
    {
     "name": "stdout",
     "output_type": "stream",
     "text": [
      "0.0521\n"
     ]
    }
   ],
   "source": [
    "print(f'{dist.cdf(20):.4f}')"
   ]
  },
  {
   "cell_type": "markdown",
   "id": "a3cc3338-1448-4744-b85c-823e85d83f46",
   "metadata": {},
   "source": [
    "c) P(22<x<28)"
   ]
  },
  {
   "cell_type": "code",
   "execution_count": 22,
   "id": "3f213c8f-f0ed-4539-86db-8397fe33bf96",
   "metadata": {},
   "outputs": [],
   "source": [
    "P = dist.cdf(28)-dist.cdf(22)"
   ]
  },
  {
   "cell_type": "code",
   "execution_count": 23,
   "id": "234eadfd-69f8-48eb-a9b0-e69fcdb30d12",
   "metadata": {
    "jupyter": {
     "source_hidden": true
    }
   },
   "outputs": [
    {
     "name": "stdout",
     "output_type": "stream",
     "text": [
      "0.5159\n"
     ]
    }
   ],
   "source": [
    "print(f'{P:.4f}')"
   ]
  },
  {
   "cell_type": "markdown",
   "id": "7b8ac8d9-2c39-494d-bb50-ac1e03e5930d",
   "metadata": {},
   "source": [
    "## Exercício 7"
   ]
  },
  {
   "cell_type": "code",
   "execution_count": 24,
   "id": "fac03f2d-1fb2-4c0d-9d0c-ed7c096a878c",
   "metadata": {},
   "outputs": [
    {
     "data": {
      "text/html": [
       "<div>\n",
       "<style scoped>\n",
       "    .dataframe tbody tr th:only-of-type {\n",
       "        vertical-align: middle;\n",
       "    }\n",
       "\n",
       "    .dataframe tbody tr th {\n",
       "        vertical-align: top;\n",
       "    }\n",
       "\n",
       "    .dataframe thead th {\n",
       "        text-align: right;\n",
       "    }\n",
       "</style>\n",
       "<table border=\"1\" class=\"dataframe\">\n",
       "  <thead>\n",
       "    <tr style=\"text-align: right;\">\n",
       "      <th></th>\n",
       "      <th>f_obs</th>\n",
       "    </tr>\n",
       "  </thead>\n",
       "  <tbody>\n",
       "    <tr>\n",
       "      <th>Livro A</th>\n",
       "      <td>29</td>\n",
       "    </tr>\n",
       "    <tr>\n",
       "      <th>Livro B</th>\n",
       "      <td>15</td>\n",
       "    </tr>\n",
       "    <tr>\n",
       "      <th>Livro C</th>\n",
       "      <td>16</td>\n",
       "    </tr>\n",
       "  </tbody>\n",
       "</table>\n",
       "</div>"
      ],
      "text/plain": [
       "         f_obs\n",
       "Livro A     29\n",
       "Livro B     15\n",
       "Livro C     16"
      ]
     },
     "execution_count": 24,
     "metadata": {},
     "output_type": "execute_result"
    }
   ],
   "source": [
    "exerc7_df = (\n",
    "    pd.read_excel(\n",
    "        xl_path,\n",
    "        sheet_name='Exercício 7',\n",
    "        usecols=[1,2,3],\n",
    "        nrows=1,\n",
    "    )\n",
    "    .T\n",
    "    .rename(columns={0: 'f_obs'})\n",
    ")\n",
    "exerc7_df"
   ]
  },
  {
   "cell_type": "code",
   "execution_count": 25,
   "id": "371affef-745e-4be0-ba25-495fd8ac6245",
   "metadata": {},
   "outputs": [],
   "source": [
    "alpha = .05\n",
    "ddof = exerc7_df.f_obs.size-1\n",
    "# stats.chisquare assumes same frequency for every category if f_exp is not passed\n",
    "chi2val, pvalue = stats.chisquare(exerc7_df.f_obs)\n",
    "critical05 = stats.chi2.isf(alpha, ddof)"
   ]
  },
  {
   "cell_type": "code",
   "execution_count": 26,
   "id": "d2a898d6-c9b2-4980-a649-9e9795e681fd",
   "metadata": {
    "jupyter": {
     "source_hidden": true
    }
   },
   "outputs": [
    {
     "name": "stdout",
     "output_type": "stream",
     "text": [
      "χ²: 6.100\n",
      "pvalue: 0.0474\n",
      "Critical (.05): 5.991\n",
      "\n"
     ]
    }
   ],
   "source": [
    "print(f'''χ²: {chi2val:.3f}\n",
    "pvalue: {pvalue:.4f}\n",
    "Critical (.05): {critical05:.3f}\n",
    "''')"
   ]
  },
  {
   "cell_type": "markdown",
   "id": "6a320732-ec08-4ca0-bcda-0360cdb49350",
   "metadata": {},
   "source": [
    "---"
   ]
  },
  {
   "cell_type": "markdown",
   "id": "ef40a045-256b-4cba-b0a7-b9b00eac57c9",
   "metadata": {},
   "source": [
    "## Exercício 8"
   ]
  },
  {
   "cell_type": "code",
   "execution_count": 27,
   "id": "feedca8c-edc8-4d1f-a3d7-bec802ae9f35",
   "metadata": {},
   "outputs": [],
   "source": [
    "def ddof(df: pd.DataFrame) -> pd.Series:\n",
    "    return df.count()-1"
   ]
  },
  {
   "cell_type": "markdown",
   "id": "6f6649c6-f088-405f-bc44-44c9b510d262",
   "metadata": {},
   "source": [
    "F-test of equality of variances"
   ]
  },
  {
   "cell_type": "markdown",
   "id": "9bfc4dea-f159-4a64-baa9-376780ad8ecd",
   "metadata": {},
   "source": [
    "$ F={\\frac {S_{X}^{2}}{S_{Y}^{2}}} $, onde $ S^2 $ é a variância amostral"
   ]
  },
  {
   "cell_type": "code",
   "execution_count": 28,
   "id": "176b1409-3027-453a-8918-f105c55b82fb",
   "metadata": {},
   "outputs": [],
   "source": [
    "def ftest_eqvar(df: pd.DataFrame, alpha: float) -> tuple[float, float, float]:\n",
    "    dfn, dfd = ddof(df)\n",
    "    varx, vary = df.var()\n",
    "    fvar = varx / vary\n",
    "    pvalue = stats.f.sf(fvar, dfn, dfd)\n",
    "    crit = stats.f.isf(alpha, dfn, dfd)\n",
    "    return fvar, pvalue, crit"
   ]
  },
  {
   "cell_type": "code",
   "execution_count": 29,
   "id": "8344512f-7411-4245-b48a-61e4fa855f2f",
   "metadata": {},
   "outputs": [],
   "source": [
    "exerc8_df = (\n",
    "    pd.read_excel(\n",
    "        xl_path,\n",
    "        sheet_name='Exercício 8',\n",
    "        usecols=[0,1],\n",
    "        nrows=14,\n",
    "    )\n",
    ")"
   ]
  },
  {
   "cell_type": "code",
   "execution_count": 30,
   "id": "cbffb261-3137-4b12-bf4b-6fb7bf8bc24d",
   "metadata": {},
   "outputs": [
    {
     "data": {
      "text/html": [
       "<div>\n",
       "<style scoped>\n",
       "    .dataframe tbody tr th:only-of-type {\n",
       "        vertical-align: middle;\n",
       "    }\n",
       "\n",
       "    .dataframe tbody tr th {\n",
       "        vertical-align: top;\n",
       "    }\n",
       "\n",
       "    .dataframe thead th {\n",
       "        text-align: right;\n",
       "    }\n",
       "</style>\n",
       "<table border=\"1\" class=\"dataframe\">\n",
       "  <thead>\n",
       "    <tr style=\"text-align: right;\">\n",
       "      <th></th>\n",
       "      <th>Local A (mm)</th>\n",
       "      <th>Local B (mm)</th>\n",
       "    </tr>\n",
       "  </thead>\n",
       "  <tbody>\n",
       "    <tr>\n",
       "      <th>mean</th>\n",
       "      <td>6.285714</td>\n",
       "      <td>6.850000</td>\n",
       "    </tr>\n",
       "    <tr>\n",
       "      <th>var</th>\n",
       "      <td>11.604396</td>\n",
       "      <td>4.202692</td>\n",
       "    </tr>\n",
       "    <tr>\n",
       "      <th>count</th>\n",
       "      <td>14.000000</td>\n",
       "      <td>14.000000</td>\n",
       "    </tr>\n",
       "    <tr>\n",
       "      <th>ddof</th>\n",
       "      <td>13.000000</td>\n",
       "      <td>13.000000</td>\n",
       "    </tr>\n",
       "  </tbody>\n",
       "</table>\n",
       "</div>"
      ],
      "text/plain": [
       "       Local A (mm)  Local B (mm)\n",
       "mean       6.285714      6.850000\n",
       "var       11.604396      4.202692\n",
       "count     14.000000     14.000000\n",
       "ddof      13.000000     13.000000"
      ]
     },
     "execution_count": 30,
     "metadata": {},
     "output_type": "execute_result"
    }
   ],
   "source": [
    "exerc8_df.agg(['mean','var','count',ddof])"
   ]
  },
  {
   "cell_type": "code",
   "execution_count": 31,
   "id": "7655ba90-1f1e-4b09-ac51-4961948f73f2",
   "metadata": {},
   "outputs": [],
   "source": [
    "fvar, pvalue, critical05 = ftest_eqvar(exerc8_df, alpha=.05)"
   ]
  },
  {
   "cell_type": "code",
   "execution_count": 32,
   "id": "20f45aef-b4d6-4d4c-8cc9-d0032cf40996",
   "metadata": {
    "jupyter": {
     "source_hidden": true
    }
   },
   "outputs": [
    {
     "name": "stdout",
     "output_type": "stream",
     "text": [
      "F var: 2.761\n",
      "pvalue: 0.03917\n",
      "Critical (.05): 2.577\n",
      "\n"
     ]
    }
   ],
   "source": [
    "print(f'''F var: {fvar:.3f}\n",
    "pvalue: {pvalue:.5f}\n",
    "Critical (.05): {critical05:.3f}\n",
    "''')"
   ]
  },
  {
   "cell_type": "markdown",
   "id": "f525e611-e899-4576-aad8-556ebf57827e",
   "metadata": {},
   "source": [
    "---"
   ]
  },
  {
   "cell_type": "markdown",
   "id": "8f9e3ced-0914-43d2-96b5-db73b1168a57",
   "metadata": {},
   "source": [
    "## Exercício 9"
   ]
  },
  {
   "cell_type": "code",
   "execution_count": 33,
   "id": "1592ebb5-3cbc-4d84-8011-8a6e48e06e2a",
   "metadata": {},
   "outputs": [],
   "source": [
    "exerc9_df = (\n",
    "    pd.read_excel(\n",
    "        xl_path,\n",
    "        sheet_name='Exercício 9',\n",
    "        usecols=[0,1],\n",
    "        nrows=20,\n",
    "    )\n",
    ")"
   ]
  },
  {
   "cell_type": "code",
   "execution_count": 34,
   "id": "a87914c1-793b-4ee3-9315-11ce19f8657d",
   "metadata": {},
   "outputs": [
    {
     "data": {
      "text/html": [
       "<div>\n",
       "<style scoped>\n",
       "    .dataframe tbody tr th:only-of-type {\n",
       "        vertical-align: middle;\n",
       "    }\n",
       "\n",
       "    .dataframe tbody tr th {\n",
       "        vertical-align: top;\n",
       "    }\n",
       "\n",
       "    .dataframe thead th {\n",
       "        text-align: right;\n",
       "    }\n",
       "</style>\n",
       "<table border=\"1\" class=\"dataframe\">\n",
       "  <thead>\n",
       "    <tr style=\"text-align: right;\">\n",
       "      <th></th>\n",
       "      <th>Hospital 1</th>\n",
       "      <th>Hospital 2</th>\n",
       "    </tr>\n",
       "  </thead>\n",
       "  <tbody>\n",
       "    <tr>\n",
       "      <th>mean</th>\n",
       "      <td>81.500000</td>\n",
       "      <td>57.8</td>\n",
       "    </tr>\n",
       "    <tr>\n",
       "      <th>var</th>\n",
       "      <td>137.736842</td>\n",
       "      <td>96.8</td>\n",
       "    </tr>\n",
       "    <tr>\n",
       "      <th>count</th>\n",
       "      <td>20.000000</td>\n",
       "      <td>20.0</td>\n",
       "    </tr>\n",
       "    <tr>\n",
       "      <th>ddof</th>\n",
       "      <td>19.000000</td>\n",
       "      <td>19.0</td>\n",
       "    </tr>\n",
       "  </tbody>\n",
       "</table>\n",
       "</div>"
      ],
      "text/plain": [
       "       Hospital 1  Hospital 2\n",
       "mean    81.500000        57.8\n",
       "var    137.736842        96.8\n",
       "count   20.000000        20.0\n",
       "ddof    19.000000        19.0"
      ]
     },
     "execution_count": 34,
     "metadata": {},
     "output_type": "execute_result"
    }
   ],
   "source": [
    "exerc9_df.agg(['mean','var','count',ddof])"
   ]
  },
  {
   "cell_type": "code",
   "execution_count": 35,
   "id": "27b433c1-c2ce-4f60-9a71-8e4ad59112da",
   "metadata": {},
   "outputs": [],
   "source": [
    "fvar, pvalue, critical01 = ftest_eqvar(exerc9_df, alpha=.01)"
   ]
  },
  {
   "cell_type": "code",
   "execution_count": 36,
   "id": "de9bf478-036f-431d-bea8-e495dfd65cfb",
   "metadata": {
    "jupyter": {
     "source_hidden": true
    }
   },
   "outputs": [
    {
     "name": "stdout",
     "output_type": "stream",
     "text": [
      "F var: 1.423\n",
      "pvalue: 0.225\n",
      "Critical (.01): 3.027\n",
      "\n"
     ]
    }
   ],
   "source": [
    "print(f'''F var: {fvar:.3f}\n",
    "pvalue: {pvalue:.3f}\n",
    "Critical (.01): {critical01:.3f}\n",
    "''')"
   ]
  },
  {
   "cell_type": "code",
   "execution_count": 37,
   "id": "79cd3d64-c4ea-444c-9199-f4c1c6f6169f",
   "metadata": {},
   "outputs": [
    {
     "data": {
      "text/html": [
       "<div>\n",
       "<style scoped>\n",
       "    .dataframe tbody tr th:only-of-type {\n",
       "        vertical-align: middle;\n",
       "    }\n",
       "\n",
       "    .dataframe tbody tr th {\n",
       "        vertical-align: top;\n",
       "    }\n",
       "\n",
       "    .dataframe thead th {\n",
       "        text-align: right;\n",
       "    }\n",
       "</style>\n",
       "<table border=\"1\" class=\"dataframe\">\n",
       "  <thead>\n",
       "    <tr style=\"text-align: right;\">\n",
       "      <th></th>\n",
       "      <th>T</th>\n",
       "      <th>dof</th>\n",
       "      <th>alternative</th>\n",
       "      <th>p-val</th>\n",
       "      <th>CI99%</th>\n",
       "      <th>cohen-d</th>\n",
       "      <th>BF10</th>\n",
       "      <th>power</th>\n",
       "      <th>critical01</th>\n",
       "    </tr>\n",
       "  </thead>\n",
       "  <tbody>\n",
       "    <tr>\n",
       "      <th>T-test</th>\n",
       "      <td>6.920824</td>\n",
       "      <td>38</td>\n",
       "      <td>two-sided</td>\n",
       "      <td>3.147828e-08</td>\n",
       "      <td>[14.414412784845942, 32.98558721515406]</td>\n",
       "      <td>2.188557</td>\n",
       "      <td>2.93e+05</td>\n",
       "      <td>0.999999</td>\n",
       "      <td>2.711558</td>\n",
       "    </tr>\n",
       "  </tbody>\n",
       "</table>\n",
       "</div>"
      ],
      "text/plain": [
       "               T  dof alternative         p-val  \\\n",
       "T-test  6.920824   38   two-sided  3.147828e-08   \n",
       "\n",
       "                                          CI99%   cohen-d      BF10     power  \\\n",
       "T-test  [14.414412784845942, 32.98558721515406]  2.188557  2.93e+05  0.999999   \n",
       "\n",
       "        critical01  \n",
       "T-test    2.711558  "
      ]
     },
     "execution_count": 37,
     "metadata": {},
     "output_type": "execute_result"
    }
   ],
   "source": [
    "(\n",
    "    pg.ttest(*exerc9_df.T.to_numpy(),confidence=.99)\n",
    "    .assign(\n",
    "        critical01=lambda df: stats.t.isf(.01/2, df.dof),\n",
    "    )\n",
    ")"
   ]
  },
  {
   "cell_type": "code",
   "execution_count": 38,
   "id": "c9082202-f4df-4124-8f7c-9481962a37a5",
   "metadata": {},
   "outputs": [],
   "source": [
    "T, pvalue = stats.ttest_ind(*exerc9_df.T.to_numpy())"
   ]
  },
  {
   "cell_type": "code",
   "execution_count": 39,
   "id": "510bbcc5-8ffd-428d-870f-7c3dd8b3e14f",
   "metadata": {},
   "outputs": [],
   "source": [
    "critical01 = stats.t.isf(.01/2, 38)"
   ]
  },
  {
   "cell_type": "code",
   "execution_count": 40,
   "id": "4315e5d1-e0b5-4cf9-a1bf-e1b3a75f3f77",
   "metadata": {},
   "outputs": [
    {
     "data": {
      "text/plain": [
       "(73.99210839145069, 89.00789160854931)"
      ]
     },
     "execution_count": 40,
     "metadata": {},
     "output_type": "execute_result"
    }
   ],
   "source": [
    "stats.t.interval(confidence=.99, df=19, loc=exerc9_df['Hospital 1'].mean(), scale=exerc9_df['Hospital 1'].sem())"
   ]
  },
  {
   "cell_type": "code",
   "execution_count": 41,
   "id": "a4028940-3670-4ea9-8e69-adee4ca7c462",
   "metadata": {},
   "outputs": [
    {
     "data": {
      "text/plain": [
       "(51.50594386581019, 64.09405613418981)"
      ]
     },
     "execution_count": 41,
     "metadata": {},
     "output_type": "execute_result"
    }
   ],
   "source": [
    "stats.t.interval(confidence=.99, df=19, loc=exerc9_df['Hospital 2'].mean(), scale=exerc9_df['Hospital 2'].sem())"
   ]
  },
  {
   "cell_type": "markdown",
   "id": "2745fab2-96f8-487f-95ef-7d6b7f81b2c1",
   "metadata": {},
   "source": [
    "---"
   ]
  },
  {
   "cell_type": "markdown",
   "id": "b2615620-ea95-4dd0-b135-ebc141a1ded7",
   "metadata": {},
   "source": [
    "## Exercício 10"
   ]
  },
  {
   "cell_type": "markdown",
   "id": "eb4239b2-9d21-4ff8-a3c2-1bc00d3f96a4",
   "metadata": {},
   "source": [
    "$ \\displaystyle t = \\frac{\\bar{x} - \\mu _{0}}{s/\\sqrt{n}} $"
   ]
  },
  {
   "cell_type": "code",
   "execution_count": 42,
   "id": "2303aa89-7240-4817-8b19-d0b8e0b5132c",
   "metadata": {
    "editable": true,
    "slideshow": {
     "slide_type": ""
    },
    "tags": []
   },
   "outputs": [],
   "source": [
    "T = (\n",
    "    (65-60)/\n",
    "    (3.5/math.sqrt(36))\n",
    ")"
   ]
  },
  {
   "cell_type": "code",
   "execution_count": 43,
   "id": "a17f1875-9130-4596-9d0d-36337cc71977",
   "metadata": {
    "editable": true,
    "slideshow": {
     "slide_type": ""
    },
    "tags": []
   },
   "outputs": [],
   "source": [
    "alpha = .05\n",
    "ddof = 36-1\n",
    "pvalue = stats.t.sf(T,ddof)*2  # 2-tail, so we multiply by two\n",
    "critical05 = stats.t.isf(alpha/2, ddof)"
   ]
  },
  {
   "cell_type": "code",
   "execution_count": 44,
   "id": "bcdce803-2ce9-4719-9b6c-7cb1d98210af",
   "metadata": {
    "jupyter": {
     "source_hidden": true
    }
   },
   "outputs": [
    {
     "name": "stdout",
     "output_type": "stream",
     "text": [
      "T: 8.571\n",
      "pvalue: 0.000\n",
      "Critical (.05): 2.030\n",
      "\n"
     ]
    }
   ],
   "source": [
    "print(f'''T: {T:.3f}\n",
    "pvalue: {pvalue:.3f}\n",
    "Critical (.05): {critical05:.3f}\n",
    "''')"
   ]
  },
  {
   "cell_type": "markdown",
   "id": "b06775b0-5556-4e2c-83dd-f46f6f55ed43",
   "metadata": {},
   "source": [
    "---"
   ]
  },
  {
   "cell_type": "markdown",
   "id": "0cedd10d-3b34-4eed-8d83-36b59764493b",
   "metadata": {},
   "source": [
    "## Exercício 11"
   ]
  },
  {
   "cell_type": "markdown",
   "id": "47440a1c-8e3e-4e87-a51a-e50d65f43707",
   "metadata": {
    "editable": true,
    "slideshow": {
     "slide_type": ""
    },
    "tags": []
   },
   "source": [
    "$\n",
    "\\displaystyle Z = \\frac{(\\bar{x} - \\mu_)}{\\sigma/\\sqrt{n}}\n",
    "$"
   ]
  },
  {
   "cell_type": "code",
   "execution_count": 45,
   "id": "750499fe-942e-4af9-861a-32d331a43015",
   "metadata": {
    "editable": true,
    "slideshow": {
     "slide_type": ""
    },
    "tags": []
   },
   "outputs": [],
   "source": [
    "Z = (\n",
    "    (8.25 - 8)/\n",
    "    (1/math.sqrt(85))\n",
    ")"
   ]
  },
  {
   "cell_type": "code",
   "execution_count": 46,
   "id": "50ac65ae-34ca-4eb5-a2de-ced8aadfd25c",
   "metadata": {},
   "outputs": [],
   "source": [
    "alpha = .05\n",
    "pvalue = stats.norm.sf(Z)  # single-tail\n",
    "critical05 = stats.norm.isf(alpha)"
   ]
  },
  {
   "cell_type": "code",
   "execution_count": 47,
   "id": "fd7b8c92-2468-47ed-9b09-c66f14db24d6",
   "metadata": {
    "jupyter": {
     "source_hidden": true
    }
   },
   "outputs": [
    {
     "name": "stdout",
     "output_type": "stream",
     "text": [
      "Z: 2.305\n",
      "pvalue: 0.011\n",
      "Critical (.05): 1.645\n",
      "\n"
     ]
    }
   ],
   "source": [
    "print(f'''Z: {Z:.3f}\n",
    "pvalue: {pvalue:.3f}\n",
    "Critical (.05): {critical05:.3f}\n",
    "''')"
   ]
  },
  {
   "cell_type": "markdown",
   "id": "1608731f-e36e-46ca-a681-05f02f0cb7ab",
   "metadata": {
    "editable": true,
    "slideshow": {
     "slide_type": ""
    },
    "tags": []
   },
   "source": [
    "---"
   ]
  },
  {
   "cell_type": "markdown",
   "id": "a46a1fce-4f7d-4cc4-8d9d-32a738c79cf0",
   "metadata": {},
   "source": [
    "## Exercício 12"
   ]
  },
  {
   "cell_type": "markdown",
   "id": "95499f52-9484-4cf2-9f22-5857691eadd7",
   "metadata": {},
   "source": [
    "$ \\displaystyle (\\bar{x}-\\mu) = Z \\times \\frac{\\sigma}{\\sqrt{n}} $"
   ]
  },
  {
   "cell_type": "code",
   "execution_count": 48,
   "id": "990e24b4-6519-4a1c-a93d-561df3d858ad",
   "metadata": {
    "editable": true,
    "slideshow": {
     "slide_type": ""
    },
    "tags": []
   },
   "outputs": [],
   "source": [
    "alpha = .05\n",
    "critical05 = stats.norm.isf(alpha/2)  # 2-tail so we divide alpha by 2\n",
    "meansubmu = critical05 * (10/math.sqrt(425))\n",
    "estimated_upper = 226 + meansubmu\n",
    "estimated_lower = 226 - meansubmu"
   ]
  },
  {
   "cell_type": "code",
   "execution_count": 49,
   "id": "47ff88dc-97de-4508-b277-64b3c45b96fb",
   "metadata": {
    "jupyter": {
     "source_hidden": true
    }
   },
   "outputs": [
    {
     "name": "stdout",
     "output_type": "stream",
     "text": [
      "Critical Z (.05): 1.960\n",
      "Estimated upper: 226.95\n",
      "Estimated lower: 225.05\n",
      "\n"
     ]
    }
   ],
   "source": [
    "print(f'''Critical Z (.05): {critical05:.3f}\n",
    "Estimated upper: {estimated_upper:.2f}\n",
    "Estimated lower: {estimated_lower:.2f}\n",
    "''')"
   ]
  },
  {
   "cell_type": "code",
   "execution_count": 50,
   "id": "5fcab5c3-2ddc-4eb8-982a-2187784aafa4",
   "metadata": {},
   "outputs": [
    {
     "data": {
      "text/plain": [
       "(225.04927781992174, 226.95072218007826)"
      ]
     },
     "execution_count": 50,
     "metadata": {},
     "output_type": "execute_result"
    }
   ],
   "source": [
    "stats.norm.interval(1-alpha, loc=226, scale=(10/math.sqrt(425)))"
   ]
  }
 ],
 "metadata": {
  "kernelspec": {
   "display_name": "Python 3 (ipykernel)",
   "language": "python",
   "name": "python3"
  },
  "language_info": {
   "codemirror_mode": {
    "name": "ipython",
    "version": 3
   },
   "file_extension": ".py",
   "mimetype": "text/x-python",
   "name": "python",
   "nbconvert_exporter": "python",
   "pygments_lexer": "ipython3",
   "version": "3.12.2"
  }
 },
 "nbformat": 4,
 "nbformat_minor": 5
}
