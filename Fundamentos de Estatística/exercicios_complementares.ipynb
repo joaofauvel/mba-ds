{
 "cells": [
  {
   "cell_type": "code",
   "execution_count": null,
   "id": "ed087d1b-cfa7-4a73-bd3c-88df13384474",
   "metadata": {
    "editable": true,
    "slideshow": {
     "slide_type": ""
    },
    "tags": []
   },
   "outputs": [],
   "source": [
    "# !pip install pandas numpy seaborn scipy pingouin openpyxl"
   ]
  },
  {
   "cell_type": "code",
   "execution_count": null,
   "id": "476aa214-2bc5-4276-a305-4d4d5486f7eb",
   "metadata": {
    "editable": true,
    "slideshow": {
     "slide_type": ""
    },
    "tags": []
   },
   "outputs": [],
   "source": [
    "import pandas as pd\n",
    "import numpy as np\n",
    "import seaborn.objects as so\n",
    "import seaborn as sns\n",
    "from scipy import stats\n",
    "import math\n",
    "import pingouin as pg"
   ]
  },
  {
   "cell_type": "code",
   "execution_count": null,
   "id": "974a2dc3-a16a-4c58-95f9-b43f485f683d",
   "metadata": {},
   "outputs": [],
   "source": [
    "xl_path = 'Lista de Exercicios - Complementaresxlsx Portugues.xlsx'"
   ]
  },
  {
   "cell_type": "markdown",
   "id": "0a96ad7a-cf5e-46f7-b681-f8df30179017",
   "metadata": {},
   "source": [
    "# Lista de Exercícios"
   ]
  },
  {
   "cell_type": "markdown",
   "id": "f46a5e12-306c-4e7e-ba8e-c55372d9e0ad",
   "metadata": {},
   "source": [
    "## Exercício 1"
   ]
  },
  {
   "cell_type": "code",
   "execution_count": null,
   "id": "be7c483b-c772-4d20-a417-52b226f7e569",
   "metadata": {
    "editable": true,
    "slideshow": {
     "slide_type": ""
    },
    "tags": []
   },
   "outputs": [],
   "source": [
    "def freq(df: pd.DataFrame, col: str, sort_index=False) -> pd.DataFrame:\n",
    "    res = (\n",
    "        df.loc[:,col]\n",
    "        .value_counts()\n",
    "        .to_frame(name='cnt')\n",
    "        .pipe(lambda df: df.sort_index() if sort_index else df)\n",
    "        .assign(\n",
    "            relative_freq=lambda df: df.cnt.div(df.cnt.sum()).mul(100),\n",
    "            cumcnt=lambda df: df.cnt.cumsum(),\n",
    "            cum_relative_freq=lambda df: df.cumcnt.div(df.cnt.sum()).mul(100),\n",
    "        )\n",
    "    )\n",
    "    return res"
   ]
  },
  {
   "cell_type": "code",
   "execution_count": null,
   "id": "799076b0-55f0-4813-b006-43ffdc5e7e02",
   "metadata": {},
   "outputs": [],
   "source": [
    "(\n",
    "    pd.read_excel(\n",
    "        xl_path,\n",
    "        sheet_name='Exercício 1',\n",
    "        usecols=[0,1],\n",
    "        nrows=50,\n",
    "    )\n",
    "    .assign(\n",
    "        bins=lambda df: df['Renda (R$)'].pipe(pd.cut,bins=[0,2000,4000,6000,8000,10000,12000]),\n",
    "    )\n",
    "    .pipe(freq,col='bins',sort_index=True)\n",
    ")"
   ]
  },
  {
   "cell_type": "markdown",
   "id": "21bac2e2-81ba-4b26-b5bb-4490626049fa",
   "metadata": {
    "editable": true,
    "slideshow": {
     "slide_type": ""
    },
    "tags": []
   },
   "source": [
    "---"
   ]
  },
  {
   "cell_type": "markdown",
   "id": "2ffcbd93-1e1f-4ae2-8f96-f577e43d6924",
   "metadata": {},
   "source": [
    "## Exercício 2"
   ]
  },
  {
   "cell_type": "code",
   "execution_count": null,
   "id": "c537d101-00bb-449b-ae97-00ae88acb385",
   "metadata": {
    "editable": true,
    "slideshow": {
     "slide_type": ""
    },
    "tags": []
   },
   "outputs": [],
   "source": [
    "def describe_more(ser: pd.Series, **kwargs) -> pd.Series:\n",
    "    res = (    \n",
    "        ser.describe(**kwargs)\n",
    "        .to_frame()\n",
    "        .T\n",
    "        .assign(\n",
    "            amplitude=ser.max()-ser.min(),\n",
    "            var=ser.var(),\n",
    "            stderr=ser.sem(),\n",
    "            cov=(ser.std()/ser.mean())*100,\n",
    "            mode=ser.mode().values if len(ser.mode().values) == 1 else np.nan,\n",
    "            skew=ser.skew(),\n",
    "            kurtosis=ser.kurt(),\n",
    "        )\n",
    "        .T\n",
    "        .iloc[:,0]\n",
    "    )\n",
    "    return res\n"
   ]
  },
  {
   "cell_type": "code",
   "execution_count": null,
   "id": "b73c3048-4639-4878-ae76-2c3e6b21dd5e",
   "metadata": {},
   "outputs": [],
   "source": [
    "exerc2_df = (\n",
    "    pd.read_excel(\n",
    "        xl_path,\n",
    "        sheet_name='Exercício 2',\n",
    "        usecols=[0,1,2],\n",
    "        nrows=24,\n",
    "        index_col=0,\n",
    "    )\n",
    ")"
   ]
  },
  {
   "cell_type": "code",
   "execution_count": null,
   "id": "5238fe37-ed9c-42d6-968d-b0ac1a84c383",
   "metadata": {},
   "outputs": [],
   "source": [
    "(\n",
    "    exerc2_df.T\n",
    "    .groupby(level=0)\n",
    "    .apply(lambda df: df.iloc[0].pipe(describe_more,percentiles=[.25,.75,.8,.9,.27,.64]))\n",
    "    .T\n",
    "    .round(4)\n",
    ")"
   ]
  },
  {
   "cell_type": "code",
   "execution_count": null,
   "id": "d37638ad-73eb-4a8d-81bb-9bd342905a7b",
   "metadata": {
    "editable": true,
    "slideshow": {
     "slide_type": ""
    },
    "tags": []
   },
   "outputs": [],
   "source": [
    "i, j = exerc2_df.shape\n",
    "ddof = i-j\n",
    "r, pvalue = stats.pearsonr(*exerc2_df.T.to_numpy())\n",
    "T = r/math.sqrt((1-(r**2))/(exerc2_df.count().iloc[0]-2))\n",
    "critical05 = stats.t.ppf(1-.05/2, ddof)  # 2-tail, thus we divide by 2"
   ]
  },
  {
   "cell_type": "code",
   "execution_count": null,
   "id": "6f4d6cc5-527a-42d9-bb14-1ea1f5130863",
   "metadata": {
    "editable": true,
    "slideshow": {
     "slide_type": ""
    },
    "tags": []
   },
   "outputs": [],
   "source": [
    "print(f'''r: {r:.4f}\n",
    "T: {T:.4f}\n",
    "pvalue: {pvalue:.4f}\n",
    "Critical (.05): {critical05:.4f}\n",
    "''')"
   ]
  },
  {
   "cell_type": "markdown",
   "id": "8d0bde88-4deb-4c0c-9343-0548cabb28c2",
   "metadata": {
    "editable": true,
    "slideshow": {
     "slide_type": ""
    },
    "tags": []
   },
   "source": [
    "---"
   ]
  },
  {
   "cell_type": "markdown",
   "id": "7b8ac8d9-2c39-494d-bb50-ac1e03e5930d",
   "metadata": {},
   "source": [
    "## Exercício 7"
   ]
  },
  {
   "cell_type": "code",
   "execution_count": null,
   "id": "fac03f2d-1fb2-4c0d-9d0c-ed7c096a878c",
   "metadata": {},
   "outputs": [],
   "source": [
    "exerc7_df = (\n",
    "    pd.read_excel(\n",
    "        xl_path,\n",
    "        sheet_name='Exercício 7',\n",
    "        usecols=[1,2,3],\n",
    "        nrows=1,\n",
    "    )\n",
    "    .T\n",
    "    .rename(columns={0: 'f_obs'})\n",
    "    .assign(\n",
    "        f_exp=lambda df: (df.sum()/len(df.index)).iloc[0]\n",
    "    )\n",
    ")\n",
    "exerc7_df"
   ]
  },
  {
   "cell_type": "code",
   "execution_count": null,
   "id": "371affef-745e-4be0-ba25-495fd8ac6245",
   "metadata": {},
   "outputs": [],
   "source": [
    "ddof = len(exerc7_df.index)-1\n",
    "alpha = .05\n",
    "chi2val, _ = stats.chisquare(exerc7_df.f_obs, exerc7_df.f_exp, ddof=ddof)\n",
    "pvalue = stats.chi2.sf(chi2val,ddof)\n",
    "critical05 = stats.chi2.ppf(1-alpha, ddof)"
   ]
  },
  {
   "cell_type": "code",
   "execution_count": null,
   "id": "d2a898d6-c9b2-4980-a649-9e9795e681fd",
   "metadata": {},
   "outputs": [],
   "source": [
    "print(f'''χ²: {chi2val:.3f}\n",
    "pvalue: {pvalue:.4f}\n",
    "Critical (.05): {critical05:.3f}\n",
    "''')"
   ]
  },
  {
   "cell_type": "markdown",
   "id": "6a320732-ec08-4ca0-bcda-0360cdb49350",
   "metadata": {},
   "source": [
    "---"
   ]
  },
  {
   "cell_type": "markdown",
   "id": "ef40a045-256b-4cba-b0a7-b9b00eac57c9",
   "metadata": {},
   "source": [
    "## Exercício 8"
   ]
  },
  {
   "cell_type": "code",
   "execution_count": null,
   "id": "feedca8c-edc8-4d1f-a3d7-bec802ae9f35",
   "metadata": {},
   "outputs": [],
   "source": [
    "def ddof(df: pd.DataFrame) -> pd.Series:\n",
    "    return df.count()-1"
   ]
  },
  {
   "cell_type": "code",
   "execution_count": null,
   "id": "176b1409-3027-453a-8918-f105c55b82fb",
   "metadata": {},
   "outputs": [],
   "source": [
    "def ftest(df: pd.DataFrame, alpha: float) -> tuple[float, float, float]:\n",
    "    dfn, dfd = ddof(df)\n",
    "    varx, vary = df.var()\n",
    "    fvar = varx / vary\n",
    "    pvalue = stats.f.sf(fvar, dfn, dfd)\n",
    "    crit = stats.f.ppf(1-alpha, dfn, dfd)\n",
    "    return fvar, pvalue, crit"
   ]
  },
  {
   "cell_type": "code",
   "execution_count": null,
   "id": "8344512f-7411-4245-b48a-61e4fa855f2f",
   "metadata": {},
   "outputs": [],
   "source": [
    "exerc8_df = (\n",
    "    pd.read_excel(\n",
    "        xl_path,\n",
    "        sheet_name='Exercício 8',\n",
    "        usecols=[0,1],\n",
    "        nrows=14,\n",
    "    )\n",
    ")"
   ]
  },
  {
   "cell_type": "code",
   "execution_count": null,
   "id": "cbffb261-3137-4b12-bf4b-6fb7bf8bc24d",
   "metadata": {},
   "outputs": [],
   "source": [
    "exerc8_df.agg(['mean','var','count',ddof])"
   ]
  },
  {
   "cell_type": "code",
   "execution_count": null,
   "id": "7655ba90-1f1e-4b09-ac51-4961948f73f2",
   "metadata": {},
   "outputs": [],
   "source": [
    "fvar, pvalue, critical05 = ftest(exerc8_df, alpha=.05)"
   ]
  },
  {
   "cell_type": "code",
   "execution_count": null,
   "id": "20f45aef-b4d6-4d4c-8cc9-d0032cf40996",
   "metadata": {},
   "outputs": [],
   "source": [
    "print(f'''F var: {fvar:.3f}\n",
    "pvalue: {pvalue:.5f}\n",
    "Critical (.05): {critical05:.3f}\n",
    "''')"
   ]
  },
  {
   "cell_type": "markdown",
   "id": "f525e611-e899-4576-aad8-556ebf57827e",
   "metadata": {},
   "source": [
    "---"
   ]
  },
  {
   "cell_type": "markdown",
   "id": "8f9e3ced-0914-43d2-96b5-db73b1168a57",
   "metadata": {},
   "source": [
    "## Exercício 9"
   ]
  },
  {
   "cell_type": "code",
   "execution_count": null,
   "id": "1592ebb5-3cbc-4d84-8011-8a6e48e06e2a",
   "metadata": {},
   "outputs": [],
   "source": [
    "exerc9_df = (\n",
    "    pd.read_excel(\n",
    "        xl_path,\n",
    "        sheet_name='Exercício 9',\n",
    "        usecols=[0,1],\n",
    "        nrows=20,\n",
    "    )\n",
    ")"
   ]
  },
  {
   "cell_type": "code",
   "execution_count": null,
   "id": "a87914c1-793b-4ee3-9315-11ce19f8657d",
   "metadata": {},
   "outputs": [],
   "source": [
    "exerc9_df.agg(['mean','var','count',ddof])"
   ]
  },
  {
   "cell_type": "code",
   "execution_count": null,
   "id": "27b433c1-c2ce-4f60-9a71-8e4ad59112da",
   "metadata": {},
   "outputs": [],
   "source": [
    "fvar, pvalue, critical01 = ftest(exerc9_df, alpha=.01)"
   ]
  },
  {
   "cell_type": "code",
   "execution_count": null,
   "id": "de9bf478-036f-431d-bea8-e495dfd65cfb",
   "metadata": {},
   "outputs": [],
   "source": [
    "print(f'''F var: {fvar:.3f}\n",
    "pvalue: {pvalue:.3f}\n",
    "Critical (.01): {critical01:.3f}\n",
    "''')"
   ]
  },
  {
   "cell_type": "code",
   "execution_count": null,
   "id": "79cd3d64-c4ea-444c-9199-f4c1c6f6169f",
   "metadata": {},
   "outputs": [],
   "source": [
    "(\n",
    "    pg.ttest(*exerc9_df.T.to_numpy(),confidence=.99)\n",
    "    .assign(\n",
    "        critical01=lambda df: stats.t.ppf(1-(.01/2), df.dof),\n",
    "    )\n",
    ")"
   ]
  },
  {
   "cell_type": "markdown",
   "id": "2745fab2-96f8-487f-95ef-7d6b7f81b2c1",
   "metadata": {},
   "source": [
    "---"
   ]
  },
  {
   "cell_type": "markdown",
   "id": "b2615620-ea95-4dd0-b135-ebc141a1ded7",
   "metadata": {},
   "source": [
    "## Exercício 10"
   ]
  },
  {
   "cell_type": "markdown",
   "id": "eb4239b2-9d21-4ff8-a3c2-1bc00d3f96a4",
   "metadata": {},
   "source": [
    "$ \\displaystyle t = \\frac{\\bar{x} - \\mu _{0}}{s/\\sqrt{n}} $"
   ]
  },
  {
   "cell_type": "code",
   "execution_count": null,
   "id": "2303aa89-7240-4817-8b19-d0b8e0b5132c",
   "metadata": {
    "editable": true,
    "slideshow": {
     "slide_type": ""
    },
    "tags": []
   },
   "outputs": [],
   "source": [
    "T = (\n",
    "    (65-60)/\n",
    "    (3.5/math.sqrt(36))\n",
    ")"
   ]
  },
  {
   "cell_type": "code",
   "execution_count": null,
   "id": "a17f1875-9130-4596-9d0d-36337cc71977",
   "metadata": {},
   "outputs": [],
   "source": [
    "alpha = .05\n",
    "ddof = 36-1\n",
    "pvalue = stats.t.sf(T,ddof)*2  # 2-tail, so we multiply by two\n",
    "critical05 = stats.t.ppf(1-(alpha/2), ddof)"
   ]
  },
  {
   "cell_type": "code",
   "execution_count": null,
   "id": "bcdce803-2ce9-4719-9b6c-7cb1d98210af",
   "metadata": {},
   "outputs": [],
   "source": [
    "print(f'''T: {T:.3f}\n",
    "pvalue: {pvalue:.3f}\n",
    "Critical (.05): {critical05:.3f}\n",
    "''')"
   ]
  },
  {
   "cell_type": "code",
   "execution_count": null,
   "id": "9ee1f1ac-3764-47de-8efe-e91ad8a44b29",
   "metadata": {
    "editable": true,
    "slideshow": {
     "slide_type": ""
    },
    "tags": []
   },
   "outputs": [],
   "source": []
  }
 ],
 "metadata": {
  "kernelspec": {
   "display_name": "Python 3 (ipykernel)",
   "language": "python",
   "name": "python3"
  },
  "language_info": {
   "codemirror_mode": {
    "name": "ipython",
    "version": 3
   },
   "file_extension": ".py",
   "mimetype": "text/x-python",
   "name": "python",
   "nbconvert_exporter": "python",
   "pygments_lexer": "ipython3",
   "version": "3.12.2"
  }
 },
 "nbformat": 4,
 "nbformat_minor": 5
}
