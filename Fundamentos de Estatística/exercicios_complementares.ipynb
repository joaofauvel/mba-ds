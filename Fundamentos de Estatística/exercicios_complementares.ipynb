{
 "cells": [
  {
   "cell_type": "code",
   "execution_count": 1,
   "id": "ed087d1b-cfa7-4a73-bd3c-88df13384474",
   "metadata": {
    "editable": true,
    "slideshow": {
     "slide_type": ""
    },
    "tags": []
   },
   "outputs": [],
   "source": [
    "# !pip install pandas numpy seaborn scipy openpyxl"
   ]
  },
  {
   "cell_type": "code",
   "execution_count": 2,
   "id": "476aa214-2bc5-4276-a305-4d4d5486f7eb",
   "metadata": {
    "editable": true,
    "slideshow": {
     "slide_type": ""
    },
    "tags": []
   },
   "outputs": [],
   "source": [
    "import pandas as pd\n",
    "import numpy as np\n",
    "import seaborn.objects as so\n",
    "import seaborn as sns\n",
    "from scipy import stats\n",
    "import math\n",
    "from itertools import product"
   ]
  },
  {
   "cell_type": "code",
   "execution_count": 3,
   "id": "974a2dc3-a16a-4c58-95f9-b43f485f683d",
   "metadata": {},
   "outputs": [],
   "source": [
    "xl_path = 'Lista de Exercicios - Complementaresxlsx Portugues.xlsx'"
   ]
  },
  {
   "cell_type": "markdown",
   "id": "0a96ad7a-cf5e-46f7-b681-f8df30179017",
   "metadata": {},
   "source": [
    "# Lista de Exercícios"
   ]
  },
  {
   "cell_type": "markdown",
   "id": "f46a5e12-306c-4e7e-ba8e-c55372d9e0ad",
   "metadata": {},
   "source": [
    "## Exercício 1"
   ]
  },
  {
   "cell_type": "code",
   "execution_count": 4,
   "id": "be7c483b-c772-4d20-a417-52b226f7e569",
   "metadata": {
    "editable": true,
    "slideshow": {
     "slide_type": ""
    },
    "tags": []
   },
   "outputs": [],
   "source": [
    "def freq(df: pd.DataFrame, col: str, sort_index=False) -> pd.DataFrame:\n",
    "    res = (\n",
    "        df.loc[:,col]\n",
    "        .value_counts()\n",
    "        .to_frame(name='cnt')\n",
    "        .pipe(lambda df: df.sort_index() if sort_index else df)\n",
    "        .assign(\n",
    "            relative_freq=lambda df: df.cnt.div(df.cnt.sum()).mul(100),\n",
    "            cumcnt=lambda df: df.cnt.cumsum(),\n",
    "            cum_relative_freq=lambda df: df.cumcnt.div(df.cnt.sum()).mul(100),\n",
    "        )\n",
    "    )\n",
    "    return res"
   ]
  },
  {
   "cell_type": "code",
   "execution_count": 5,
   "id": "799076b0-55f0-4813-b006-43ffdc5e7e02",
   "metadata": {},
   "outputs": [
    {
     "data": {
      "text/html": [
       "<div>\n",
       "<style scoped>\n",
       "    .dataframe tbody tr th:only-of-type {\n",
       "        vertical-align: middle;\n",
       "    }\n",
       "\n",
       "    .dataframe tbody tr th {\n",
       "        vertical-align: top;\n",
       "    }\n",
       "\n",
       "    .dataframe thead th {\n",
       "        text-align: right;\n",
       "    }\n",
       "</style>\n",
       "<table border=\"1\" class=\"dataframe\">\n",
       "  <thead>\n",
       "    <tr style=\"text-align: right;\">\n",
       "      <th></th>\n",
       "      <th>cnt</th>\n",
       "      <th>relative_freq</th>\n",
       "      <th>cumcnt</th>\n",
       "      <th>cum_relative_freq</th>\n",
       "    </tr>\n",
       "    <tr>\n",
       "      <th>bins</th>\n",
       "      <th></th>\n",
       "      <th></th>\n",
       "      <th></th>\n",
       "      <th></th>\n",
       "    </tr>\n",
       "  </thead>\n",
       "  <tbody>\n",
       "    <tr>\n",
       "      <th>(0, 2000]</th>\n",
       "      <td>9</td>\n",
       "      <td>18.0</td>\n",
       "      <td>9</td>\n",
       "      <td>18.0</td>\n",
       "    </tr>\n",
       "    <tr>\n",
       "      <th>(2000, 4000]</th>\n",
       "      <td>19</td>\n",
       "      <td>38.0</td>\n",
       "      <td>28</td>\n",
       "      <td>56.0</td>\n",
       "    </tr>\n",
       "    <tr>\n",
       "      <th>(4000, 6000]</th>\n",
       "      <td>11</td>\n",
       "      <td>22.0</td>\n",
       "      <td>39</td>\n",
       "      <td>78.0</td>\n",
       "    </tr>\n",
       "    <tr>\n",
       "      <th>(6000, 8000]</th>\n",
       "      <td>5</td>\n",
       "      <td>10.0</td>\n",
       "      <td>44</td>\n",
       "      <td>88.0</td>\n",
       "    </tr>\n",
       "    <tr>\n",
       "      <th>(8000, 10000]</th>\n",
       "      <td>4</td>\n",
       "      <td>8.0</td>\n",
       "      <td>48</td>\n",
       "      <td>96.0</td>\n",
       "    </tr>\n",
       "    <tr>\n",
       "      <th>(10000, 12000]</th>\n",
       "      <td>2</td>\n",
       "      <td>4.0</td>\n",
       "      <td>50</td>\n",
       "      <td>100.0</td>\n",
       "    </tr>\n",
       "  </tbody>\n",
       "</table>\n",
       "</div>"
      ],
      "text/plain": [
       "                cnt  relative_freq  cumcnt  cum_relative_freq\n",
       "bins                                                         \n",
       "(0, 2000]         9           18.0       9               18.0\n",
       "(2000, 4000]     19           38.0      28               56.0\n",
       "(4000, 6000]     11           22.0      39               78.0\n",
       "(6000, 8000]      5           10.0      44               88.0\n",
       "(8000, 10000]     4            8.0      48               96.0\n",
       "(10000, 12000]    2            4.0      50              100.0"
      ]
     },
     "execution_count": 5,
     "metadata": {},
     "output_type": "execute_result"
    }
   ],
   "source": [
    "(\n",
    "    pd.read_excel(\n",
    "        xl_path,\n",
    "        sheet_name='Exercício 1',\n",
    "        usecols=[0,1],\n",
    "        nrows=50,\n",
    "    )\n",
    "    .assign(\n",
    "        bins=lambda df: df['Renda (R$)'].pipe(pd.cut,bins=[0,2000,4000,6000,8000,10000,12000]),\n",
    "    )\n",
    "    .pipe(freq,col='bins',sort_index=True)\n",
    ")"
   ]
  },
  {
   "cell_type": "markdown",
   "id": "21bac2e2-81ba-4b26-b5bb-4490626049fa",
   "metadata": {
    "editable": true,
    "slideshow": {
     "slide_type": ""
    },
    "tags": []
   },
   "source": [
    "---"
   ]
  },
  {
   "cell_type": "markdown",
   "id": "2ffcbd93-1e1f-4ae2-8f96-f577e43d6924",
   "metadata": {},
   "source": [
    "## Exercício 2"
   ]
  },
  {
   "cell_type": "code",
   "execution_count": 6,
   "id": "c537d101-00bb-449b-ae97-00ae88acb385",
   "metadata": {
    "editable": true,
    "slideshow": {
     "slide_type": ""
    },
    "tags": []
   },
   "outputs": [],
   "source": [
    "def describe_more(ser: pd.Series, percentiles=[.5]) -> pd.Series:\n",
    "    res = (    \n",
    "        ser.describe(percentiles)\n",
    "        .to_frame()\n",
    "        .T\n",
    "        .assign(\n",
    "            amplitude=ser.max()-ser.min(),\n",
    "            var=ser.var(),\n",
    "            stderr=ser.sem(),\n",
    "            cov=(ser.std()/ser.mean())*100,\n",
    "            mode=ser.mode().values if len(ser.mode().values) == 1 else np.nan,\n",
    "            skew=ser.skew(),\n",
    "            kurtosis=ser.kurt(),\n",
    "        )\n",
    "        .T\n",
    "        .iloc[:,0]\n",
    "    )\n",
    "    return res\n"
   ]
  },
  {
   "cell_type": "code",
   "execution_count": 7,
   "id": "b73c3048-4639-4878-ae76-2c3e6b21dd5e",
   "metadata": {},
   "outputs": [],
   "source": [
    "exerc2_df = (\n",
    "    pd.read_excel(\n",
    "        xl_path,\n",
    "        sheet_name='Exercício 2',\n",
    "        usecols=[0,1,2],\n",
    "        nrows=24,\n",
    "        index_col=0,\n",
    "    )\n",
    ")"
   ]
  },
  {
   "cell_type": "code",
   "execution_count": 8,
   "id": "5238fe37-ed9c-42d6-968d-b0ac1a84c383",
   "metadata": {},
   "outputs": [
    {
     "data": {
      "text/html": [
       "<div>\n",
       "<style scoped>\n",
       "    .dataframe tbody tr th:only-of-type {\n",
       "        vertical-align: middle;\n",
       "    }\n",
       "\n",
       "    .dataframe tbody tr th {\n",
       "        vertical-align: top;\n",
       "    }\n",
       "\n",
       "    .dataframe thead th {\n",
       "        text-align: right;\n",
       "    }\n",
       "</style>\n",
       "<table border=\"1\" class=\"dataframe\">\n",
       "  <thead>\n",
       "    <tr style=\"text-align: right;\">\n",
       "      <th></th>\n",
       "      <th>Ação 1</th>\n",
       "      <th>Ação 2</th>\n",
       "    </tr>\n",
       "  </thead>\n",
       "  <tbody>\n",
       "    <tr>\n",
       "      <th>count</th>\n",
       "      <td>23.0000</td>\n",
       "      <td>23.0000</td>\n",
       "    </tr>\n",
       "    <tr>\n",
       "      <th>mean</th>\n",
       "      <td>0.0352</td>\n",
       "      <td>0.1511</td>\n",
       "    </tr>\n",
       "    <tr>\n",
       "      <th>std</th>\n",
       "      <td>0.1292</td>\n",
       "      <td>0.2038</td>\n",
       "    </tr>\n",
       "    <tr>\n",
       "      <th>min</th>\n",
       "      <td>-0.2018</td>\n",
       "      <td>-0.1490</td>\n",
       "    </tr>\n",
       "    <tr>\n",
       "      <th>25%</th>\n",
       "      <td>-0.0612</td>\n",
       "      <td>0.0204</td>\n",
       "    </tr>\n",
       "    <tr>\n",
       "      <th>27%</th>\n",
       "      <td>-0.0564</td>\n",
       "      <td>0.0208</td>\n",
       "    </tr>\n",
       "    <tr>\n",
       "      <th>50%</th>\n",
       "      <td>0.0370</td>\n",
       "      <td>0.1248</td>\n",
       "    </tr>\n",
       "    <tr>\n",
       "      <th>64%</th>\n",
       "      <td>0.0763</td>\n",
       "      <td>0.1825</td>\n",
       "    </tr>\n",
       "    <tr>\n",
       "      <th>75%</th>\n",
       "      <td>0.1160</td>\n",
       "      <td>0.2333</td>\n",
       "    </tr>\n",
       "    <tr>\n",
       "      <th>80%</th>\n",
       "      <td>0.1260</td>\n",
       "      <td>0.2619</td>\n",
       "    </tr>\n",
       "    <tr>\n",
       "      <th>90%</th>\n",
       "      <td>0.2235</td>\n",
       "      <td>0.4280</td>\n",
       "    </tr>\n",
       "    <tr>\n",
       "      <th>max</th>\n",
       "      <td>0.2814</td>\n",
       "      <td>0.6260</td>\n",
       "    </tr>\n",
       "    <tr>\n",
       "      <th>amplitude</th>\n",
       "      <td>0.4832</td>\n",
       "      <td>0.7750</td>\n",
       "    </tr>\n",
       "    <tr>\n",
       "      <th>var</th>\n",
       "      <td>0.0167</td>\n",
       "      <td>0.0415</td>\n",
       "    </tr>\n",
       "    <tr>\n",
       "      <th>stderr</th>\n",
       "      <td>0.0269</td>\n",
       "      <td>0.0425</td>\n",
       "    </tr>\n",
       "    <tr>\n",
       "      <th>cov</th>\n",
       "      <td>367.0591</td>\n",
       "      <td>134.8613</td>\n",
       "    </tr>\n",
       "    <tr>\n",
       "      <th>mode</th>\n",
       "      <td>NaN</td>\n",
       "      <td>NaN</td>\n",
       "    </tr>\n",
       "    <tr>\n",
       "      <th>skew</th>\n",
       "      <td>0.1884</td>\n",
       "      <td>0.7570</td>\n",
       "    </tr>\n",
       "    <tr>\n",
       "      <th>kurtosis</th>\n",
       "      <td>-0.5477</td>\n",
       "      <td>0.2918</td>\n",
       "    </tr>\n",
       "  </tbody>\n",
       "</table>\n",
       "</div>"
      ],
      "text/plain": [
       "             Ação 1    Ação 2\n",
       "count       23.0000   23.0000\n",
       "mean         0.0352    0.1511\n",
       "std          0.1292    0.2038\n",
       "min         -0.2018   -0.1490\n",
       "25%         -0.0612    0.0204\n",
       "27%         -0.0564    0.0208\n",
       "50%          0.0370    0.1248\n",
       "64%          0.0763    0.1825\n",
       "75%          0.1160    0.2333\n",
       "80%          0.1260    0.2619\n",
       "90%          0.2235    0.4280\n",
       "max          0.2814    0.6260\n",
       "amplitude    0.4832    0.7750\n",
       "var          0.0167    0.0415\n",
       "stderr       0.0269    0.0425\n",
       "cov        367.0591  134.8613\n",
       "mode            NaN       NaN\n",
       "skew         0.1884    0.7570\n",
       "kurtosis    -0.5477    0.2918"
      ]
     },
     "execution_count": 8,
     "metadata": {},
     "output_type": "execute_result"
    }
   ],
   "source": [
    "(\n",
    "    exerc2_df.T\n",
    "    .groupby(level=0)\n",
    "    .apply(lambda df: df.iloc[0].pipe(describe_more,percentiles=[.25,.75,.8,.9,.27,.64]))\n",
    "    .T\n",
    "    .round(4)\n",
    ")"
   ]
  },
  {
   "cell_type": "code",
   "execution_count": 9,
   "id": "33794588-74f5-485a-b17e-52a91de2a734",
   "metadata": {
    "editable": true,
    "slideshow": {
     "slide_type": ""
    },
    "tags": []
   },
   "outputs": [
    {
     "name": "stdout",
     "output_type": "stream",
     "text": [
      "r: 0.2908\n",
      "T: 1.3929\n",
      "pvalue: 0.1782\n",
      "Critical (.05): 2.0796\n",
      "\n"
     ]
    }
   ],
   "source": [
    "i, j = exerc2_df.shape\n",
    "ddof = i-j\n",
    "r, pvalue = stats.pearsonr(*exerc2_df.T.to_numpy())\n",
    "T = r/math.sqrt((1-(r**2))/(exerc2_df.count().iloc[0]-2))\n",
    "critical05 = stats.t.ppf(1-.05/2, ddof)  # 2-tail, thus we divide by 2\n",
    "print(f'''r: {r:.4f}\n",
    "T: {T:.4f}\n",
    "pvalue: {pvalue:.4f}\n",
    "Critical (.05): {critical05:.4f}\n",
    "''')"
   ]
  },
  {
   "cell_type": "markdown",
   "id": "8d0bde88-4deb-4c0c-9343-0548cabb28c2",
   "metadata": {
    "editable": true,
    "slideshow": {
     "slide_type": ""
    },
    "tags": []
   },
   "source": [
    "---"
   ]
  },
  {
   "cell_type": "markdown",
   "id": "7b8ac8d9-2c39-494d-bb50-ac1e03e5930d",
   "metadata": {},
   "source": [
    "## Exercício 7"
   ]
  },
  {
   "cell_type": "code",
   "execution_count": 10,
   "id": "fac03f2d-1fb2-4c0d-9d0c-ed7c096a878c",
   "metadata": {},
   "outputs": [
    {
     "data": {
      "text/html": [
       "<div>\n",
       "<style scoped>\n",
       "    .dataframe tbody tr th:only-of-type {\n",
       "        vertical-align: middle;\n",
       "    }\n",
       "\n",
       "    .dataframe tbody tr th {\n",
       "        vertical-align: top;\n",
       "    }\n",
       "\n",
       "    .dataframe thead th {\n",
       "        text-align: right;\n",
       "    }\n",
       "</style>\n",
       "<table border=\"1\" class=\"dataframe\">\n",
       "  <thead>\n",
       "    <tr style=\"text-align: right;\">\n",
       "      <th></th>\n",
       "      <th>f_obs</th>\n",
       "      <th>f_exp</th>\n",
       "    </tr>\n",
       "  </thead>\n",
       "  <tbody>\n",
       "    <tr>\n",
       "      <th>Livro A</th>\n",
       "      <td>29</td>\n",
       "      <td>20.0</td>\n",
       "    </tr>\n",
       "    <tr>\n",
       "      <th>Livro B</th>\n",
       "      <td>15</td>\n",
       "      <td>20.0</td>\n",
       "    </tr>\n",
       "    <tr>\n",
       "      <th>Livro C</th>\n",
       "      <td>16</td>\n",
       "      <td>20.0</td>\n",
       "    </tr>\n",
       "  </tbody>\n",
       "</table>\n",
       "</div>"
      ],
      "text/plain": [
       "         f_obs  f_exp\n",
       "Livro A     29   20.0\n",
       "Livro B     15   20.0\n",
       "Livro C     16   20.0"
      ]
     },
     "execution_count": 10,
     "metadata": {},
     "output_type": "execute_result"
    }
   ],
   "source": [
    "exerc7_df = (\n",
    "    pd.read_excel(\n",
    "        xl_path,\n",
    "        sheet_name='Exercício 7',\n",
    "        usecols=[1,2,3],\n",
    "        nrows=1,\n",
    "    )\n",
    "    .T\n",
    "    .rename(columns={0: 'f_obs'})\n",
    "    .assign(\n",
    "        f_exp=lambda df: (df.sum()/len(df.index)).iloc[0]\n",
    "    )\n",
    ")\n",
    "exerc7_df"
   ]
  },
  {
   "cell_type": "code",
   "execution_count": 11,
   "id": "371affef-745e-4be0-ba25-495fd8ac6245",
   "metadata": {},
   "outputs": [],
   "source": [
    "ddof = len(exerc7_df.index)-1\n",
    "alpha = .05\n",
    "chi2val, _ = stats.chisquare(exerc7_df.f_obs, exerc7_df.f_exp, ddof=ddof)\n",
    "pvalue = stats.chi2.sf(chi2val,ddof)\n",
    "critical05 = stats.chi2.ppf(1-alpha, ddof)"
   ]
  },
  {
   "cell_type": "code",
   "execution_count": 12,
   "id": "d2a898d6-c9b2-4980-a649-9e9795e681fd",
   "metadata": {},
   "outputs": [
    {
     "name": "stdout",
     "output_type": "stream",
     "text": [
      "χ²: 6.100\n",
      "pvalue: 0.0474\n",
      "Critical (.05): 5.991\n",
      "\n"
     ]
    }
   ],
   "source": [
    "print(f'''χ²: {chi2val:.3f}\n",
    "pvalue: {pvalue:.4f}\n",
    "Critical (.05): {critical05:.3f}\n",
    "''')"
   ]
  },
  {
   "cell_type": "markdown",
   "id": "6a320732-ec08-4ca0-bcda-0360cdb49350",
   "metadata": {},
   "source": [
    "---"
   ]
  },
  {
   "cell_type": "markdown",
   "id": "ef40a045-256b-4cba-b0a7-b9b00eac57c9",
   "metadata": {},
   "source": [
    "## Exercício 8"
   ]
  },
  {
   "cell_type": "code",
   "execution_count": 13,
   "id": "8344512f-7411-4245-b48a-61e4fa855f2f",
   "metadata": {},
   "outputs": [],
   "source": [
    "exerc8_df = (\n",
    "    pd.read_excel(\n",
    "        xl_path,\n",
    "        sheet_name='Exercício 8',\n",
    "        usecols=[0,1],\n",
    "        nrows=14,\n",
    "    )\n",
    ")"
   ]
  },
  {
   "cell_type": "code",
   "execution_count": 14,
   "id": "b5ccd285-3ba3-4a34-a3f3-07371938e535",
   "metadata": {},
   "outputs": [],
   "source": [
    "alpha = .05\n",
    "fvar = exerc8_df.var()['Local A (mm)']/exerc8_df.var()['Local B (mm)']\n",
    "pvalue = stats.f.sf(fvar, 13, 13)\n",
    "critical05 = stats.f.ppf(1-alpha, 13, 13)"
   ]
  },
  {
   "cell_type": "code",
   "execution_count": 15,
   "id": "20f45aef-b4d6-4d4c-8cc9-d0032cf40996",
   "metadata": {},
   "outputs": [
    {
     "name": "stdout",
     "output_type": "stream",
     "text": [
      "F var: 2.761\n",
      "pvalue: 0.03917\n",
      "Critical (.05): 2.577\n",
      "\n"
     ]
    }
   ],
   "source": [
    "print(f'''F var: {fvar:.3f}\n",
    "pvalue: {pvalue:.5f}\n",
    "Critical (.05): {critical05:.3f}\n",
    "''')"
   ]
  },
  {
   "cell_type": "code",
   "execution_count": null,
   "id": "dd8b81f0-a31b-4943-8acb-0fe7fa795fdb",
   "metadata": {},
   "outputs": [],
   "source": []
  }
 ],
 "metadata": {
  "kernelspec": {
   "display_name": "Python 3 (ipykernel)",
   "language": "python",
   "name": "python3"
  },
  "language_info": {
   "codemirror_mode": {
    "name": "ipython",
    "version": 3
   },
   "file_extension": ".py",
   "mimetype": "text/x-python",
   "name": "python",
   "nbconvert_exporter": "python",
   "pygments_lexer": "ipython3",
   "version": "3.12.2"
  }
 },
 "nbformat": 4,
 "nbformat_minor": 5
}
